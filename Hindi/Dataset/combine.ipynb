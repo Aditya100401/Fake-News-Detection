{
 "cells": [
  {
   "cell_type": "code",
   "execution_count": 1,
   "metadata": {},
   "outputs": [],
   "source": [
    "import pandas as pd"
   ]
  },
  {
   "cell_type": "code",
   "execution_count": 2,
   "metadata": {},
   "outputs": [
    {
     "data": {
      "text/html": [
       "<div>\n",
       "<style scoped>\n",
       "    .dataframe tbody tr th:only-of-type {\n",
       "        vertical-align: middle;\n",
       "    }\n",
       "\n",
       "    .dataframe tbody tr th {\n",
       "        vertical-align: top;\n",
       "    }\n",
       "\n",
       "    .dataframe thead th {\n",
       "        text-align: right;\n",
       "    }\n",
       "</style>\n",
       "<table border=\"1\" class=\"dataframe\">\n",
       "  <thead>\n",
       "    <tr style=\"text-align: right;\">\n",
       "      <th></th>\n",
       "      <th>News</th>\n",
       "      <th>Label</th>\n",
       "    </tr>\n",
       "  </thead>\n",
       "  <tbody>\n",
       "    <tr>\n",
       "      <th>0</th>\n",
       "      <td>मोहम्मद सिराज ने हाल में पिता को खो दिया था ले...</td>\n",
       "      <td>1</td>\n",
       "    </tr>\n",
       "    <tr>\n",
       "      <th>1</th>\n",
       "      <td>ब्रिसबेन टेस्ट का वो पल जब पुजारा के पापा डर ग...</td>\n",
       "      <td>1</td>\n",
       "    </tr>\n",
       "    <tr>\n",
       "      <th>2</th>\n",
       "      <td>पाकिस्तान के टीवी एंकर इक़रारुल हसन ने भारत की...</td>\n",
       "      <td>1</td>\n",
       "    </tr>\n",
       "    <tr>\n",
       "      <th>3</th>\n",
       "      <td>कहां हुई थी पहली गणतंत्र दिवस परेडकिसी से पूछा...</td>\n",
       "      <td>1</td>\n",
       "    </tr>\n",
       "    <tr>\n",
       "      <th>4</th>\n",
       "      <td>कार्टून: सख़्त ज़रूरत हैवेब सिरीज़ तांडव को ले...</td>\n",
       "      <td>1</td>\n",
       "    </tr>\n",
       "    <tr>\n",
       "      <th>...</th>\n",
       "      <td>...</td>\n",
       "      <td>...</td>\n",
       "    </tr>\n",
       "    <tr>\n",
       "      <th>2282</th>\n",
       "      <td>चालक कार रोक के बजाय चल जार रख ट्रैफ़िक पुलिसक...</td>\n",
       "      <td>1</td>\n",
       "    </tr>\n",
       "    <tr>\n",
       "      <th>2283</th>\n",
       "      <td>मिसाइल 400 किलोमीटर ज़्याद मार सक</td>\n",
       "      <td>1</td>\n",
       "    </tr>\n",
       "    <tr>\n",
       "      <th>2284</th>\n",
       "      <td>आकर्षण केंद्र वो शक्तिशाल पहलवान जिनक संबंध प्...</td>\n",
       "      <td>1</td>\n",
       "    </tr>\n",
       "    <tr>\n",
       "      <th>2285</th>\n",
       "      <td>बिहार के जातिगत समीकरण बात लंब बीजेप हिंद पहचा...</td>\n",
       "      <td>1</td>\n",
       "    </tr>\n",
       "    <tr>\n",
       "      <th>2286</th>\n",
       "      <td>एनआईए 83 साल के फ़ादर स्टेन स्वाम गिरफ़्तार यू...</td>\n",
       "      <td>1</td>\n",
       "    </tr>\n",
       "  </tbody>\n",
       "</table>\n",
       "<p>2287 rows × 2 columns</p>\n",
       "</div>"
      ],
      "text/plain": [
       "                                                   News  Label\n",
       "0     मोहम्मद सिराज ने हाल में पिता को खो दिया था ले...      1\n",
       "1     ब्रिसबेन टेस्ट का वो पल जब पुजारा के पापा डर ग...      1\n",
       "2     पाकिस्तान के टीवी एंकर इक़रारुल हसन ने भारत की...      1\n",
       "3     कहां हुई थी पहली गणतंत्र दिवस परेडकिसी से पूछा...      1\n",
       "4     कार्टून: सख़्त ज़रूरत हैवेब सिरीज़ तांडव को ले...      1\n",
       "...                                                 ...    ...\n",
       "2282  चालक कार रोक के बजाय चल जार रख ट्रैफ़िक पुलिसक...      1\n",
       "2283                 मिसाइल 400 किलोमीटर ज़्याद मार सक       1\n",
       "2284  आकर्षण केंद्र वो शक्तिशाल पहलवान जिनक संबंध प्...      1\n",
       "2285  बिहार के जातिगत समीकरण बात लंब बीजेप हिंद पहचा...      1\n",
       "2286  एनआईए 83 साल के फ़ादर स्टेन स्वाम गिरफ़्तार यू...      1\n",
       "\n",
       "[2287 rows x 2 columns]"
      ]
     },
     "execution_count": 2,
     "metadata": {},
     "output_type": "execute_result"
    }
   ],
   "source": [
    "real = pd.read_csv('real_news_all.csv')\n",
    "real"
   ]
  },
  {
   "cell_type": "code",
   "execution_count": 3,
   "metadata": {},
   "outputs": [
    {
     "data": {
      "text/plain": [
       "News     0\n",
       "Label    0\n",
       "dtype: int64"
      ]
     },
     "execution_count": 3,
     "metadata": {},
     "output_type": "execute_result"
    }
   ],
   "source": [
    "real.isnull().sum(axis=0)"
   ]
  },
  {
   "cell_type": "code",
   "execution_count": 4,
   "metadata": {},
   "outputs": [
    {
     "data": {
      "text/html": [
       "<div>\n",
       "<style scoped>\n",
       "    .dataframe tbody tr th:only-of-type {\n",
       "        vertical-align: middle;\n",
       "    }\n",
       "\n",
       "    .dataframe tbody tr th {\n",
       "        vertical-align: top;\n",
       "    }\n",
       "\n",
       "    .dataframe thead th {\n",
       "        text-align: right;\n",
       "    }\n",
       "</style>\n",
       "<table border=\"1\" class=\"dataframe\">\n",
       "  <thead>\n",
       "    <tr style=\"text-align: right;\">\n",
       "      <th></th>\n",
       "      <th>News</th>\n",
       "      <th>Label</th>\n",
       "    </tr>\n",
       "  </thead>\n",
       "  <tbody>\n",
       "    <tr>\n",
       "      <th>0</th>\n",
       "      <td>यूक्रेन के ख़िलाफ़ रूस कैसे प्रोपेगैंडा की लड़...</td>\n",
       "      <td>0</td>\n",
       "    </tr>\n",
       "    <tr>\n",
       "      <th>1</th>\n",
       "      <td>पहले स्वदेशी एयरक्राफ्ट की व्यावसायिक उड़ान पर...</td>\n",
       "      <td>0</td>\n",
       "    </tr>\n",
       "    <tr>\n",
       "      <th>2</th>\n",
       "      <td>यूक्रेन की जंग के बारे में क्या दिखा रहे हैं र...</td>\n",
       "      <td>0</td>\n",
       "    </tr>\n",
       "    <tr>\n",
       "      <th>3</th>\n",
       "      <td>COVER STORY: कैसे सिख बनकर सिखों को बदनाम करने...</td>\n",
       "      <td>0</td>\n",
       "    </tr>\n",
       "    <tr>\n",
       "      <th>4</th>\n",
       "      <td>फ़ेसबुक ने 'हेट स्पीच' और 'नफ़रत वाले कंटेंट' ...</td>\n",
       "      <td>0</td>\n",
       "    </tr>\n",
       "    <tr>\n",
       "      <th>...</th>\n",
       "      <td>...</td>\n",
       "      <td>...</td>\n",
       "    </tr>\n",
       "    <tr>\n",
       "      <th>48262</th>\n",
       "      <td>क्या डेनमार्क में मुस्लिमों के वोट देने के अधि...</td>\n",
       "      <td>0</td>\n",
       "    </tr>\n",
       "    <tr>\n",
       "      <th>48263</th>\n",
       "      <td>सोशल मीडिया पर वायरल ये तस्वीर दरअसल कहाँ से ह...</td>\n",
       "      <td>0</td>\n",
       "    </tr>\n",
       "    <tr>\n",
       "      <th>48264</th>\n",
       "      <td>मध्यप्रदेश: शराब बिक्री को लेकर शिवराज चौहान क...</td>\n",
       "      <td>0</td>\n",
       "    </tr>\n",
       "    <tr>\n",
       "      <th>48265</th>\n",
       "      <td>इंडोनेशिया में समुन्द्र के नीचे स्थित मंदिर के...</td>\n",
       "      <td>0</td>\n",
       "    </tr>\n",
       "    <tr>\n",
       "      <th>48266</th>\n",
       "      <td>बेड पर पैर रखकर मरीज़ से बात कर रहे आईएएस अधिका...</td>\n",
       "      <td>0</td>\n",
       "    </tr>\n",
       "  </tbody>\n",
       "</table>\n",
       "<p>48267 rows × 2 columns</p>\n",
       "</div>"
      ],
      "text/plain": [
       "                                                    News  Label\n",
       "0      यूक्रेन के ख़िलाफ़ रूस कैसे प्रोपेगैंडा की लड़...      0\n",
       "1      पहले स्वदेशी एयरक्राफ्ट की व्यावसायिक उड़ान पर...      0\n",
       "2      यूक्रेन की जंग के बारे में क्या दिखा रहे हैं र...      0\n",
       "3      COVER STORY: कैसे सिख बनकर सिखों को बदनाम करने...      0\n",
       "4      फ़ेसबुक ने 'हेट स्पीच' और 'नफ़रत वाले कंटेंट' ...      0\n",
       "...                                                  ...    ...\n",
       "48262  क्या डेनमार्क में मुस्लिमों के वोट देने के अधि...      0\n",
       "48263  सोशल मीडिया पर वायरल ये तस्वीर दरअसल कहाँ से ह...      0\n",
       "48264  मध्यप्रदेश: शराब बिक्री को लेकर शिवराज चौहान क...      0\n",
       "48265  इंडोनेशिया में समुन्द्र के नीचे स्थित मंदिर के...      0\n",
       "48266  बेड पर पैर रखकर मरीज़ से बात कर रहे आईएएस अधिका...      0\n",
       "\n",
       "[48267 rows x 2 columns]"
      ]
     },
     "execution_count": 4,
     "metadata": {},
     "output_type": "execute_result"
    }
   ],
   "source": [
    "fake = pd.read_csv('fake_news_all.csv')\n",
    "fake"
   ]
  },
  {
   "cell_type": "code",
   "execution_count": 5,
   "metadata": {},
   "outputs": [
    {
     "data": {
      "text/html": [
       "<div>\n",
       "<style scoped>\n",
       "    .dataframe tbody tr th:only-of-type {\n",
       "        vertical-align: middle;\n",
       "    }\n",
       "\n",
       "    .dataframe tbody tr th {\n",
       "        vertical-align: top;\n",
       "    }\n",
       "\n",
       "    .dataframe thead th {\n",
       "        text-align: right;\n",
       "    }\n",
       "</style>\n",
       "<table border=\"1\" class=\"dataframe\">\n",
       "  <thead>\n",
       "    <tr style=\"text-align: right;\">\n",
       "      <th></th>\n",
       "      <th>News</th>\n",
       "      <th>Label</th>\n",
       "    </tr>\n",
       "  </thead>\n",
       "  <tbody>\n",
       "    <tr>\n",
       "      <th>0</th>\n",
       "      <td>यूक्रेन के ख़िलाफ़ रूस कैसे प्रोपेगैंडा की लड़...</td>\n",
       "      <td>0</td>\n",
       "    </tr>\n",
       "    <tr>\n",
       "      <th>1</th>\n",
       "      <td>पहले स्वदेशी एयरक्राफ्ट की व्यावसायिक उड़ान पर...</td>\n",
       "      <td>0</td>\n",
       "    </tr>\n",
       "    <tr>\n",
       "      <th>2</th>\n",
       "      <td>यूक्रेन की जंग के बारे में क्या दिखा रहे हैं र...</td>\n",
       "      <td>0</td>\n",
       "    </tr>\n",
       "    <tr>\n",
       "      <th>3</th>\n",
       "      <td>COVER STORY: कैसे सिख बनकर सिखों को बदनाम करने...</td>\n",
       "      <td>0</td>\n",
       "    </tr>\n",
       "    <tr>\n",
       "      <th>4</th>\n",
       "      <td>फ़ेसबुक ने 'हेट स्पीच' और 'नफ़रत वाले कंटेंट' ...</td>\n",
       "      <td>0</td>\n",
       "    </tr>\n",
       "    <tr>\n",
       "      <th>...</th>\n",
       "      <td>...</td>\n",
       "      <td>...</td>\n",
       "    </tr>\n",
       "    <tr>\n",
       "      <th>2296</th>\n",
       "      <td>सोशल मीडिया पर वायरल ये तस्वीर दरअसल कहाँ से ह...</td>\n",
       "      <td>0</td>\n",
       "    </tr>\n",
       "    <tr>\n",
       "      <th>2297</th>\n",
       "      <td>पाकिस्तान का पुराना वीडियो ग़लत संदर्भ में फिर ...</td>\n",
       "      <td>0</td>\n",
       "    </tr>\n",
       "    <tr>\n",
       "      <th>2298</th>\n",
       "      <td>मुस्लिम पिता-पुत्री और माँ-बेटे की पुरानी तस्व...</td>\n",
       "      <td>0</td>\n",
       "    </tr>\n",
       "    <tr>\n",
       "      <th>2299</th>\n",
       "      <td>क्या डेनमार्क में मुस्लिमों के वोट देने के अधि...</td>\n",
       "      <td>0</td>\n",
       "    </tr>\n",
       "    <tr>\n",
       "      <th>2300</th>\n",
       "      <td>वायरल वीडियो के साथ किया गया 'लव जिहाद' का दाव...</td>\n",
       "      <td>0</td>\n",
       "    </tr>\n",
       "  </tbody>\n",
       "</table>\n",
       "<p>2301 rows × 2 columns</p>\n",
       "</div>"
      ],
      "text/plain": [
       "                                                   News  Label\n",
       "0     यूक्रेन के ख़िलाफ़ रूस कैसे प्रोपेगैंडा की लड़...      0\n",
       "1     पहले स्वदेशी एयरक्राफ्ट की व्यावसायिक उड़ान पर...      0\n",
       "2     यूक्रेन की जंग के बारे में क्या दिखा रहे हैं र...      0\n",
       "3     COVER STORY: कैसे सिख बनकर सिखों को बदनाम करने...      0\n",
       "4     फ़ेसबुक ने 'हेट स्पीच' और 'नफ़रत वाले कंटेंट' ...      0\n",
       "...                                                 ...    ...\n",
       "2296  सोशल मीडिया पर वायरल ये तस्वीर दरअसल कहाँ से ह...      0\n",
       "2297  पाकिस्तान का पुराना वीडियो ग़लत संदर्भ में फिर ...      0\n",
       "2298  मुस्लिम पिता-पुत्री और माँ-बेटे की पुरानी तस्व...      0\n",
       "2299  क्या डेनमार्क में मुस्लिमों के वोट देने के अधि...      0\n",
       "2300  वायरल वीडियो के साथ किया गया 'लव जिहाद' का दाव...      0\n",
       "\n",
       "[2301 rows x 2 columns]"
      ]
     },
     "execution_count": 5,
     "metadata": {},
     "output_type": "execute_result"
    }
   ],
   "source": [
    "dropp = []\n",
    "\n",
    "for i in range(2301, len(fake)):\n",
    "    dropp.append(fake.index[i])\n",
    "\n",
    "fake = fake.drop(dropp)\n",
    "fake"
   ]
  },
  {
   "cell_type": "code",
   "execution_count": 6,
   "metadata": {},
   "outputs": [
    {
     "data": {
      "text/plain": [
       "News     0\n",
       "Label    0\n",
       "dtype: int64"
      ]
     },
     "execution_count": 6,
     "metadata": {},
     "output_type": "execute_result"
    }
   ],
   "source": [
    "fake.isnull().sum(axis=0)"
   ]
  },
  {
   "cell_type": "code",
   "execution_count": 7,
   "metadata": {},
   "outputs": [
    {
     "data": {
      "text/html": [
       "<div>\n",
       "<style scoped>\n",
       "    .dataframe tbody tr th:only-of-type {\n",
       "        vertical-align: middle;\n",
       "    }\n",
       "\n",
       "    .dataframe tbody tr th {\n",
       "        vertical-align: top;\n",
       "    }\n",
       "\n",
       "    .dataframe thead th {\n",
       "        text-align: right;\n",
       "    }\n",
       "</style>\n",
       "<table border=\"1\" class=\"dataframe\">\n",
       "  <thead>\n",
       "    <tr style=\"text-align: right;\">\n",
       "      <th></th>\n",
       "      <th>News</th>\n",
       "      <th>Label</th>\n",
       "    </tr>\n",
       "  </thead>\n",
       "  <tbody>\n",
       "    <tr>\n",
       "      <th>937</th>\n",
       "      <td>नहीं, यह वीडियो दिल्ली के सरकारी स्कूल को मदरस...</td>\n",
       "      <td>0</td>\n",
       "    </tr>\n",
       "    <tr>\n",
       "      <th>2220</th>\n",
       "      <td>मध्यप्रदेश: शराब बिक्री को लेकर शिवराज चौहान क...</td>\n",
       "      <td>0</td>\n",
       "    </tr>\n",
       "    <tr>\n",
       "      <th>1023</th>\n",
       "      <td>हिन्दू-मुस्लिम जोड़ हाई कोर्ट मिल सभ केस रद्द-...</td>\n",
       "      <td>1</td>\n",
       "    </tr>\n",
       "    <tr>\n",
       "      <th>1359</th>\n",
       "      <td>अरुण लाल: 66 की उम्र में शादी कर रहे पूर्व क्र...</td>\n",
       "      <td>1</td>\n",
       "    </tr>\n",
       "    <tr>\n",
       "      <th>560</th>\n",
       "      <td>मध्यप्रदेश: शराब बिक्री को लेकर शिवराज चौहान क...</td>\n",
       "      <td>0</td>\n",
       "    </tr>\n",
       "    <tr>\n",
       "      <th>...</th>\n",
       "      <td>...</td>\n",
       "      <td>...</td>\n",
       "    </tr>\n",
       "    <tr>\n",
       "      <th>1026</th>\n",
       "      <td>मुस्लिम पिता-पुत्री और माँ-बेटे की पुरानी तस्व...</td>\n",
       "      <td>0</td>\n",
       "    </tr>\n",
       "    <tr>\n",
       "      <th>2271</th>\n",
       "      <td>चालक कार रोक के बजाय चल जार रख ट्रैफ़िक पुलिसक...</td>\n",
       "      <td>1</td>\n",
       "    </tr>\n",
       "    <tr>\n",
       "      <th>713</th>\n",
       "      <td>हवा में क्यों घुल रहा है ज़हर?दिल्ली समेत उत्त...</td>\n",
       "      <td>1</td>\n",
       "    </tr>\n",
       "    <tr>\n",
       "      <th>1027</th>\n",
       "      <td>वायरल वीडियो के साथ किया गया 'लव जिहाद' का दाव...</td>\n",
       "      <td>0</td>\n",
       "    </tr>\n",
       "    <tr>\n",
       "      <th>362</th>\n",
       "      <td>सोशल मीडिया पर वायरल ये तस्वीर दरअसल कहाँ से ह...</td>\n",
       "      <td>0</td>\n",
       "    </tr>\n",
       "  </tbody>\n",
       "</table>\n",
       "<p>4588 rows × 2 columns</p>\n",
       "</div>"
      ],
      "text/plain": [
       "                                                   News  Label\n",
       "937   नहीं, यह वीडियो दिल्ली के सरकारी स्कूल को मदरस...      0\n",
       "2220  मध्यप्रदेश: शराब बिक्री को लेकर शिवराज चौहान क...      0\n",
       "1023  हिन्दू-मुस्लिम जोड़ हाई कोर्ट मिल सभ केस रद्द-...      1\n",
       "1359  अरुण लाल: 66 की उम्र में शादी कर रहे पूर्व क्र...      1\n",
       "560   मध्यप्रदेश: शराब बिक्री को लेकर शिवराज चौहान क...      0\n",
       "...                                                 ...    ...\n",
       "1026  मुस्लिम पिता-पुत्री और माँ-बेटे की पुरानी तस्व...      0\n",
       "2271  चालक कार रोक के बजाय चल जार रख ट्रैफ़िक पुलिसक...      1\n",
       "713   हवा में क्यों घुल रहा है ज़हर?दिल्ली समेत उत्त...      1\n",
       "1027  वायरल वीडियो के साथ किया गया 'लव जिहाद' का दाव...      0\n",
       "362   सोशल मीडिया पर वायरल ये तस्वीर दरअसल कहाँ से ह...      0\n",
       "\n",
       "[4588 rows x 2 columns]"
      ]
     },
     "execution_count": 7,
     "metadata": {},
     "output_type": "execute_result"
    }
   ],
   "source": [
    "df = real.append(fake)\n",
    "df = df.sample(frac=1)\n",
    "df"
   ]
  },
  {
   "cell_type": "code",
   "execution_count": 8,
   "metadata": {},
   "outputs": [
    {
     "data": {
      "text/plain": [
       "News     0\n",
       "Label    0\n",
       "dtype: int64"
      ]
     },
     "execution_count": 8,
     "metadata": {},
     "output_type": "execute_result"
    }
   ],
   "source": [
    "df.isnull().sum(axis=0)"
   ]
  },
  {
   "cell_type": "code",
   "execution_count": 9,
   "metadata": {},
   "outputs": [],
   "source": [
    "df.to_csv('combined_news_all.csv', index=False)"
   ]
  }
 ],
 "metadata": {
  "interpreter": {
   "hash": "3b97bdc2c87e206e8291e5ab4f714e0f91846bfc9349b2ee1278ba67b5e1fb2e"
  },
  "kernelspec": {
   "display_name": "Python 3.10.4 64-bit",
   "language": "python",
   "name": "python3"
  },
  "language_info": {
   "codemirror_mode": {
    "name": "ipython",
    "version": 3
   },
   "file_extension": ".py",
   "mimetype": "text/x-python",
   "name": "python",
   "nbconvert_exporter": "python",
   "pygments_lexer": "ipython3",
   "version": "3.10.4"
  },
  "orig_nbformat": 4,
  "vscode": {
   "interpreter": {
    "hash": "3b97bdc2c87e206e8291e5ab4f714e0f91846bfc9349b2ee1278ba67b5e1fb2e"
   }
  }
 },
 "nbformat": 4,
 "nbformat_minor": 2
}
