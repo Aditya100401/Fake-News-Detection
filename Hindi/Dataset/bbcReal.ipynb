{
 "cells": [
  {
   "cell_type": "code",
   "execution_count": 8,
   "metadata": {},
   "outputs": [],
   "source": [
    "from bs4 import BeautifulSoup as bs\n",
    "import requests\n",
    "\n",
    "basePath = 'https://www.bbc.com/'\n",
    "newsLink = 'https://www.bbc.com/hindi'\n",
    "\n",
    "allNews = []"
   ]
  },
  {
   "cell_type": "code",
   "execution_count": 9,
   "metadata": {},
   "outputs": [
    {
     "name": "stdout",
     "output_type": "stream",
     "text": [
      "147\n"
     ]
    }
   ],
   "source": [
    "tt = ['bbc-1fxtbkn', 'evnt13t0']\n",
    "\n",
    "req = requests.get(newsLink)\n",
    "soup = bs(req.content, 'html5lib')\n",
    "links = soup.select('a')\n",
    "try:\n",
    "    for i in links:\n",
    "        try:\n",
    "            if i.attrs['class'] == tt:\n",
    "                allNews.append(basePath + i.attrs['href'])\n",
    "        except:\n",
    "            pass\n",
    "except:\n",
    "    pass\n",
    "\n",
    "print(len(allNews))"
   ]
  },
  {
   "cell_type": "code",
   "execution_count": 10,
   "metadata": {},
   "outputs": [],
   "source": [
    "tt1 = ['bbc-1shrd86', 'e1cc2ql70']\n",
    "fullNews = []\n",
    "\n",
    "for link in allNews:\n",
    "    request = requests.get(link)\n",
    "    soup = bs(request.content, 'html5lib')\n",
    "    try:\n",
    "        head = soup.select('#content')[0].get_text()\n",
    "\n",
    "        newss = soup.select('p')\n",
    "        temp = []\n",
    "        try:\n",
    "            for i in newss:\n",
    "                try:\n",
    "                    if i.attrs['class'] == tt1:\n",
    "                        temp.append(i.get_text())\n",
    "                except:\n",
    "                    pass\n",
    "        except:\n",
    "            pass\n",
    "        newsss = temp[0]\n",
    "        fullNews.append([head, newsss, 1])\n",
    "    except:\n",
    "        pass"
   ]
  },
  {
   "cell_type": "code",
   "execution_count": 11,
   "metadata": {},
   "outputs": [
    {
     "data": {
      "text/html": [
       "<div>\n",
       "<style scoped>\n",
       "    .dataframe tbody tr th:only-of-type {\n",
       "        vertical-align: middle;\n",
       "    }\n",
       "\n",
       "    .dataframe tbody tr th {\n",
       "        vertical-align: top;\n",
       "    }\n",
       "\n",
       "    .dataframe thead th {\n",
       "        text-align: right;\n",
       "    }\n",
       "</style>\n",
       "<table border=\"1\" class=\"dataframe\">\n",
       "  <thead>\n",
       "    <tr style=\"text-align: right;\">\n",
       "      <th></th>\n",
       "      <th>Heading</th>\n",
       "      <th>News</th>\n",
       "      <th>Label</th>\n",
       "    </tr>\n",
       "  </thead>\n",
       "  <tbody>\n",
       "    <tr>\n",
       "      <th>0</th>\n",
       "      <td>मध्य प्रदेशः आसिफ़ और साक्षी ने प्रेम विवाह कि...</td>\n",
       "      <td>आसिफ़ और साक्षी एक दूसरे से मोहब्बत करते थे. उ...</td>\n",
       "      <td>1</td>\n",
       "    </tr>\n",
       "    <tr>\n",
       "      <th>1</th>\n",
       "      <td>बिहार में बीपीएससी का पेपर कब और कैसे लीक हुआ?...</td>\n",
       "      <td>वॉट्सऐप पर वायरल होता बिहार लोकसेवा आयोग का पेपर.</td>\n",
       "      <td>1</td>\n",
       "    </tr>\n",
       "    <tr>\n",
       "      <th>2</th>\n",
       "      <td>IPL: DRS ना होने पर कइयों का फूटा ग़ुस्सा पर ध...</td>\n",
       "      <td>मुंबई से हार कर चेन्नई की टीम भले ही प्लेऑफ़ क...</td>\n",
       "      <td>1</td>\n",
       "    </tr>\n",
       "    <tr>\n",
       "      <th>3</th>\n",
       "      <td>उज्ज्वला योजना: 90 लाख लाभार्थियों ने दोबारा स...</td>\n",
       "      <td>नरेंद्र मोदी सरकार की प्रमुख कल्याणकारी योजनाओ...</td>\n",
       "      <td>1</td>\n",
       "    </tr>\n",
       "    <tr>\n",
       "      <th>4</th>\n",
       "      <td>श्रीलंका संकट से क्या सीख सकता है भारत</td>\n",
       "      <td>भारत और श्रीलंका के बीच यूं तो तुलना नहीं की ज...</td>\n",
       "      <td>1</td>\n",
       "    </tr>\n",
       "    <tr>\n",
       "      <th>...</th>\n",
       "      <td>...</td>\n",
       "      <td>...</td>\n",
       "      <td>...</td>\n",
       "    </tr>\n",
       "    <tr>\n",
       "      <th>127</th>\n",
       "      <td>मुसलमानों में सबसे ज़्यादा घटी प्रजनन दर फिर भ...</td>\n",
       "      <td>देश के सभी समुदायों के महिलाओं की कुल प्रजनन द...</td>\n",
       "      <td>1</td>\n",
       "    </tr>\n",
       "    <tr>\n",
       "      <th>128</th>\n",
       "      <td>पुतिन की ‘गर्लफ़्रेंड’ अलीना कबाएवा कौन हैं, ज...</td>\n",
       "      <td>यूक्रेन पर हमले के चलते रूस पर पहले ही कई अप्र...</td>\n",
       "      <td>1</td>\n",
       "    </tr>\n",
       "    <tr>\n",
       "      <th>129</th>\n",
       "      <td>हैदराबाद: हिन्दू-मुस्लिम विवाह, दलित लड़के की ...</td>\n",
       "      <td>''अपने भाई के सामने मैं गिड़गिड़ाती रही, मगर म...</td>\n",
       "      <td>1</td>\n",
       "    </tr>\n",
       "    <tr>\n",
       "      <th>130</th>\n",
       "      <td>झारखंड की एक ख़ास प्रथा, जहां लिव-इन के बाद हो...</td>\n",
       "      <td>खूंटी जिले के डुमरदगा गांव की फूलमनी टूटी 46 स...</td>\n",
       "      <td>1</td>\n",
       "    </tr>\n",
       "    <tr>\n",
       "      <th>131</th>\n",
       "      <td>महाराष्ट्र का सोंडेघर गांव: दंगा रोकने के लिए ...</td>\n",
       "      <td>सोंडेघर गांव में लगा ये बोर्ड रास्ते से गुजर र...</td>\n",
       "      <td>1</td>\n",
       "    </tr>\n",
       "  </tbody>\n",
       "</table>\n",
       "<p>132 rows × 3 columns</p>\n",
       "</div>"
      ],
      "text/plain": [
       "                                               Heading  \\\n",
       "0    मध्य प्रदेशः आसिफ़ और साक्षी ने प्रेम विवाह कि...   \n",
       "1    बिहार में बीपीएससी का पेपर कब और कैसे लीक हुआ?...   \n",
       "2    IPL: DRS ना होने पर कइयों का फूटा ग़ुस्सा पर ध...   \n",
       "3    उज्ज्वला योजना: 90 लाख लाभार्थियों ने दोबारा स...   \n",
       "4               श्रीलंका संकट से क्या सीख सकता है भारत   \n",
       "..                                                 ...   \n",
       "127  मुसलमानों में सबसे ज़्यादा घटी प्रजनन दर फिर भ...   \n",
       "128  पुतिन की ‘गर्लफ़्रेंड’ अलीना कबाएवा कौन हैं, ज...   \n",
       "129  हैदराबाद: हिन्दू-मुस्लिम विवाह, दलित लड़के की ...   \n",
       "130  झारखंड की एक ख़ास प्रथा, जहां लिव-इन के बाद हो...   \n",
       "131  महाराष्ट्र का सोंडेघर गांव: दंगा रोकने के लिए ...   \n",
       "\n",
       "                                                  News  Label  \n",
       "0    आसिफ़ और साक्षी एक दूसरे से मोहब्बत करते थे. उ...      1  \n",
       "1    वॉट्सऐप पर वायरल होता बिहार लोकसेवा आयोग का पेपर.      1  \n",
       "2    मुंबई से हार कर चेन्नई की टीम भले ही प्लेऑफ़ क...      1  \n",
       "3    नरेंद्र मोदी सरकार की प्रमुख कल्याणकारी योजनाओ...      1  \n",
       "4    भारत और श्रीलंका के बीच यूं तो तुलना नहीं की ज...      1  \n",
       "..                                                 ...    ...  \n",
       "127  देश के सभी समुदायों के महिलाओं की कुल प्रजनन द...      1  \n",
       "128  यूक्रेन पर हमले के चलते रूस पर पहले ही कई अप्र...      1  \n",
       "129  ''अपने भाई के सामने मैं गिड़गिड़ाती रही, मगर म...      1  \n",
       "130  खूंटी जिले के डुमरदगा गांव की फूलमनी टूटी 46 स...      1  \n",
       "131  सोंडेघर गांव में लगा ये बोर्ड रास्ते से गुजर र...      1  \n",
       "\n",
       "[132 rows x 3 columns]"
      ]
     },
     "execution_count": 11,
     "metadata": {},
     "output_type": "execute_result"
    }
   ],
   "source": [
    "import pandas as pd\n",
    "\n",
    "df = pd.DataFrame(fullNews, columns =['Heading', 'News', 'Label'])\n",
    "df"
   ]
  },
  {
   "cell_type": "code",
   "execution_count": 12,
   "metadata": {},
   "outputs": [],
   "source": [
    "df1 = pd.read_csv('real_news.csv')\n",
    "df1 = df1.append(df)"
   ]
  },
  {
   "cell_type": "code",
   "execution_count": 13,
   "metadata": {},
   "outputs": [],
   "source": [
    "df1 = df1.drop_duplicates(keep='last')"
   ]
  },
  {
   "cell_type": "code",
   "execution_count": 14,
   "metadata": {},
   "outputs": [],
   "source": [
    "df1.to_csv('real_news.csv', index=False)"
   ]
  }
 ],
 "metadata": {
  "kernelspec": {
   "display_name": "Python 3.10.4 64-bit",
   "language": "python",
   "name": "python3"
  },
  "language_info": {
   "codemirror_mode": {
    "name": "ipython",
    "version": 3
   },
   "file_extension": ".py",
   "mimetype": "text/x-python",
   "name": "python",
   "nbconvert_exporter": "python",
   "pygments_lexer": "ipython3",
   "version": "3.10.4"
  },
  "orig_nbformat": 4,
  "vscode": {
   "interpreter": {
    "hash": "3b97bdc2c87e206e8291e5ab4f714e0f91846bfc9349b2ee1278ba67b5e1fb2e"
   }
  }
 },
 "nbformat": 4,
 "nbformat_minor": 2
}
