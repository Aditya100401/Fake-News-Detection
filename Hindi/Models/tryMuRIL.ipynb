{
 "cells": [
  {
   "cell_type": "code",
   "execution_count": 4,
   "metadata": {},
   "outputs": [
    {
     "name": "stderr",
     "output_type": "stream",
     "text": [
      "Downloading https://raw.githubusercontent.com/stanfordnlp/stanza-resources/main/resources_1.4.0.json: 154kB [00:00, 3.78MB/s]                    \n",
      "2022-06-07 10:47:22 INFO: Loading these models for language: hi (Hindi):\n",
      "=======================\n",
      "| Processor | Package |\n",
      "-----------------------\n",
      "| tokenize  | hdtb    |\n",
      "| pos       | hdtb    |\n",
      "| lemma     | hdtb    |\n",
      "=======================\n",
      "\n",
      "2022-06-07 10:47:22 INFO: Use device: cpu\n",
      "2022-06-07 10:47:22 INFO: Loading: tokenize\n",
      "2022-06-07 10:47:22 INFO: Loading: pos\n",
      "2022-06-07 10:47:23 INFO: Loading: lemma\n",
      "2022-06-07 10:47:23 INFO: Done loading processors!\n"
     ]
    }
   ],
   "source": [
    "import stanza\n",
    "import preProcessing\n",
    "\n",
    "nlp = stanza.Pipeline(lang='hi', processors='tokenize,pos,lemma', use_gpu=True)\n",
    "data = 'नहीं वीडियो दिल्ली का सरकारी स्कूल मदरसा तब्दील नहीं दिखातायह केजरीवाल दिल्ली स्कूल मॉडल जो सेकुलर हिंदू लग केजरीवाल अच्छा काम देख ले दिल्ली का सरकारी स्कूल केजरीवाल मदरसा बदल शुरू दिल्ली का विजय नगर सरकारी स्कूल स्कूल कलमा उर्दू पढ़ इजाजत दे केजरीवाल बिधायको सरकार समर्थन हिंदू तय जिहादी सोच अरविंद केजरीवाल पार्टी का'\n",
    "\n",
    "hindi_doc = nlp(data)\n",
    "lemmas = [word.lemma for sent in hindi_doc.sentences for word in sent.words]\n",
    "\n",
    "text = ' '.join(i for i in lemmas if i != None)"
   ]
  },
  {
   "cell_type": "code",
   "execution_count": 3,
   "metadata": {},
   "outputs": [
    {
     "data": {
      "text/plain": [
       "'नहीं वीडियो दिल्ली का सरकारी स्कूल मदरसा तब्दील नहीं दिखा केजरीवाल दिल्ली स्कूल मॉडल जो सेकुलर हिंदू लग केजरीवाल अच्छा काम देख ले दिल्ली का सरकारी स्कूल केजरीवाल मदरसा बदल शुरू दिल्ली का विजय नगर सरकारी स्कूल स्कूल कलमा उर्दू पढ़ इजाजत दे केजरीवाल बिधायको सरकार समर्थन हिंदू तय जिहादी सोच अरविंद केजरीवाल पार्टी का'"
      ]
     },
     "execution_count": 3,
     "metadata": {},
     "output_type": "execute_result"
    }
   ],
   "source": [
    "text"
   ]
  },
  {
   "cell_type": "code",
   "execution_count": 5,
   "metadata": {},
   "outputs": [
    {
     "name": "stderr",
     "output_type": "stream",
     "text": [
      "Some weights of the model checkpoint at google/muril-base-cased were not used when initializing BertModel: ['cls.predictions.transform.LayerNorm.bias', 'cls.predictions.decoder.bias', 'cls.predictions.transform.dense.bias', 'cls.predictions.bias', 'cls.predictions.decoder.weight', 'cls.seq_relationship.weight', 'cls.predictions.transform.LayerNorm.weight', 'cls.seq_relationship.bias', 'cls.predictions.transform.dense.weight']\n",
      "- This IS expected if you are initializing BertModel from the checkpoint of a model trained on another task or with another architecture (e.g. initializing a BertForSequenceClassification model from a BertForPreTraining model).\n",
      "- This IS NOT expected if you are initializing BertModel from the checkpoint of a model that you expect to be exactly identical (initializing a BertForSequenceClassification model from a BertForSequenceClassification model).\n"
     ]
    },
    {
     "name": "stdout",
     "output_type": "stream",
     "text": [
      "['[CLS]', 'नहीं', 'वीडियो', 'दिल्ली', 'का', 'सरकारी', 'स्कूल', 'मदरसा', 'तब्दील', 'नहीं', 'दिखा', 'केजरीवाल', 'दिल्ली', 'स्कूल', 'मॉडल', 'जो', 'से', '##कुलर', 'हिंदू', 'लग', 'केजरीवाल', 'अच्छा', 'काम', 'देख', 'ले', 'दिल्ली', 'का', 'सरकारी', 'स्कूल', 'केजरीवाल', 'मदरसा', 'बदल', 'शुरू', 'दिल्ली', 'का', 'विजय', 'नगर', 'सरकारी', 'स्कूल', 'स्कूल', 'कलम', '##ा', 'उर्दू', 'पढ़', 'इजाजत', 'दे', 'केजरीवाल', 'बि', '##धाय', '##को', 'सरकार', 'समर्थन', 'हिंदू', 'तय', 'जिहाद', '##ी', 'सोच', 'अरविंद', 'केजरीवाल', 'पार्टी', 'का', '[SEP]']\n",
      "Output shape is torch.Size([13, 1, 62, 768])\n"
     ]
    }
   ],
   "source": [
    "path = 'google/muril-base-cased'\n",
    "## Loading the model\n",
    "from transformers import AutoModel, AutoTokenizer\n",
    "import torch\n",
    "tokenizer = AutoTokenizer.from_pretrained(path)\n",
    "model = AutoModel.from_pretrained(path,output_hidden_states=True)\n",
    "## Embeddings \n",
    "#text =\"कोई अच्छी सी फिल्म लगायो\"\n",
    "#text = \"दोस्त\"\n",
    "print(tokenizer.convert_ids_to_tokens(tokenizer.encode(text)))\n",
    "input_encoded = tokenizer.encode_plus(text, return_tensors=\"pt\")\n",
    "with torch.no_grad():\n",
    "         states = model(**input_encoded).hidden_states\n",
    "output = torch.stack([states[i] for i in range(len(states))])\n",
    "#output = output.squeeze()\n",
    "print(\"Output shape is {}\".format(output.shape))"
   ]
  },
  {
   "cell_type": "code",
   "execution_count": 9,
   "metadata": {},
   "outputs": [
    {
     "name": "stdout",
     "output_type": "stream",
     "text": [
      "torch.Size([62, 768])\n",
      "torch.Size([768])\n"
     ]
    }
   ],
   "source": [
    "token_vecs = output[-2][0]\n",
    "print(token_vecs.shape)\n",
    "sentence_embedding = torch.mean(token_vecs, dim=0)\n",
    "print(sentence_embedding.shape)"
   ]
  },
  {
   "cell_type": "code",
   "execution_count": 7,
   "metadata": {},
   "outputs": [
    {
     "name": "stdout",
     "output_type": "stream",
     "text": [
      "<class 'list'>\n"
     ]
    }
   ],
   "source": [
    "x = sentence_embedding.tolist()\n",
    "print(type(x))"
   ]
  },
  {
   "cell_type": "code",
   "execution_count": 11,
   "metadata": {},
   "outputs": [
    {
     "data": {
      "text/plain": [
       "768"
      ]
     },
     "execution_count": 11,
     "metadata": {},
     "output_type": "execute_result"
    }
   ],
   "source": [
    "len(x)"
   ]
  },
  {
   "cell_type": "code",
   "execution_count": 16,
   "metadata": {},
   "outputs": [
    {
     "name": "stdout",
     "output_type": "stream",
     "text": [
      "(1, 768)\n"
     ]
    }
   ],
   "source": [
    "import numpy as np\n",
    "xx = np.array(x)\n",
    "xx = xx.reshape(1, -1)\n",
    "print(xx.shape)"
   ]
  },
  {
   "cell_type": "code",
   "execution_count": 12,
   "metadata": {},
   "outputs": [
    {
     "name": "stdout",
     "output_type": "stream",
     "text": [
      "-0.04854370653629303 <class 'float'>\n"
     ]
    }
   ],
   "source": [
    "print(x[0], type(x[0]))"
   ]
  },
  {
   "cell_type": "code",
   "execution_count": 18,
   "metadata": {},
   "outputs": [
    {
     "name": "stdout",
     "output_type": "stream",
     "text": [
      "[[0.00107089]]\n"
     ]
    }
   ],
   "source": [
    "import keras\n",
    "\n",
    "model = keras.models.load_model('modelCase.h5')\n",
    "pred = model.predict(xx)\n",
    "print(pred)"
   ]
  }
 ],
 "metadata": {
  "interpreter": {
   "hash": "3b97bdc2c87e206e8291e5ab4f714e0f91846bfc9349b2ee1278ba67b5e1fb2e"
  },
  "kernelspec": {
   "display_name": "Python 3.10.4 64-bit",
   "language": "python",
   "name": "python3"
  },
  "language_info": {
   "codemirror_mode": {
    "name": "ipython",
    "version": 3
   },
   "file_extension": ".py",
   "mimetype": "text/x-python",
   "name": "python",
   "nbconvert_exporter": "python",
   "pygments_lexer": "ipython3",
   "version": "3.10.4"
  },
  "orig_nbformat": 4
 },
 "nbformat": 4,
 "nbformat_minor": 2
}
