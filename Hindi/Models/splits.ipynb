{
 "cells": [
  {
   "cell_type": "code",
   "execution_count": 1,
   "metadata": {},
   "outputs": [],
   "source": [
    "import pandas as pd\n",
    "from fast_ml.model_development import train_valid_test_split"
   ]
  },
  {
   "cell_type": "code",
   "execution_count": 3,
   "metadata": {},
   "outputs": [
    {
     "data": {
      "text/html": [
       "<div>\n",
       "<style scoped>\n",
       "    .dataframe tbody tr th:only-of-type {\n",
       "        vertical-align: middle;\n",
       "    }\n",
       "\n",
       "    .dataframe tbody tr th {\n",
       "        vertical-align: top;\n",
       "    }\n",
       "\n",
       "    .dataframe thead th {\n",
       "        text-align: right;\n",
       "    }\n",
       "</style>\n",
       "<table border=\"1\" class=\"dataframe\">\n",
       "  <thead>\n",
       "    <tr style=\"text-align: right;\">\n",
       "      <th></th>\n",
       "      <th>News</th>\n",
       "      <th>Label</th>\n",
       "    </tr>\n",
       "  </thead>\n",
       "  <tbody>\n",
       "    <tr>\n",
       "      <th>0</th>\n",
       "      <td>नहीं, यह वीडियो दिल्ली के सरकारी स्कूल को मदरस...</td>\n",
       "      <td>0</td>\n",
       "    </tr>\n",
       "    <tr>\n",
       "      <th>1</th>\n",
       "      <td>मध्यप्रदेश: शराब बिक्री को लेकर शिवराज चौहान क...</td>\n",
       "      <td>0</td>\n",
       "    </tr>\n",
       "    <tr>\n",
       "      <th>2</th>\n",
       "      <td>हिन्दू-मुस्लिम जोड़ हाई कोर्ट मिल सभ केस रद्द-...</td>\n",
       "      <td>1</td>\n",
       "    </tr>\n",
       "    <tr>\n",
       "      <th>3</th>\n",
       "      <td>अरुण लाल: 66 की उम्र में शादी कर रहे पूर्व क्र...</td>\n",
       "      <td>1</td>\n",
       "    </tr>\n",
       "    <tr>\n",
       "      <th>4</th>\n",
       "      <td>मध्यप्रदेश: शराब बिक्री को लेकर शिवराज चौहान क...</td>\n",
       "      <td>0</td>\n",
       "    </tr>\n",
       "    <tr>\n",
       "      <th>...</th>\n",
       "      <td>...</td>\n",
       "      <td>...</td>\n",
       "    </tr>\n",
       "    <tr>\n",
       "      <th>4583</th>\n",
       "      <td>मुस्लिम पिता-पुत्री और माँ-बेटे की पुरानी तस्व...</td>\n",
       "      <td>0</td>\n",
       "    </tr>\n",
       "    <tr>\n",
       "      <th>4584</th>\n",
       "      <td>चालक कार रोक के बजाय चल जार रख ट्रैफ़िक पुलिसक...</td>\n",
       "      <td>1</td>\n",
       "    </tr>\n",
       "    <tr>\n",
       "      <th>4585</th>\n",
       "      <td>हवा में क्यों घुल रहा है ज़हर?दिल्ली समेत उत्त...</td>\n",
       "      <td>1</td>\n",
       "    </tr>\n",
       "    <tr>\n",
       "      <th>4586</th>\n",
       "      <td>वायरल वीडियो के साथ किया गया 'लव जिहाद' का दाव...</td>\n",
       "      <td>0</td>\n",
       "    </tr>\n",
       "    <tr>\n",
       "      <th>4587</th>\n",
       "      <td>सोशल मीडिया पर वायरल ये तस्वीर दरअसल कहाँ से ह...</td>\n",
       "      <td>0</td>\n",
       "    </tr>\n",
       "  </tbody>\n",
       "</table>\n",
       "<p>4588 rows × 2 columns</p>\n",
       "</div>"
      ],
      "text/plain": [
       "                                                   News  Label\n",
       "0     नहीं, यह वीडियो दिल्ली के सरकारी स्कूल को मदरस...      0\n",
       "1     मध्यप्रदेश: शराब बिक्री को लेकर शिवराज चौहान क...      0\n",
       "2     हिन्दू-मुस्लिम जोड़ हाई कोर्ट मिल सभ केस रद्द-...      1\n",
       "3     अरुण लाल: 66 की उम्र में शादी कर रहे पूर्व क्र...      1\n",
       "4     मध्यप्रदेश: शराब बिक्री को लेकर शिवराज चौहान क...      0\n",
       "...                                                 ...    ...\n",
       "4583  मुस्लिम पिता-पुत्री और माँ-बेटे की पुरानी तस्व...      0\n",
       "4584  चालक कार रोक के बजाय चल जार रख ट्रैफ़िक पुलिसक...      1\n",
       "4585  हवा में क्यों घुल रहा है ज़हर?दिल्ली समेत उत्त...      1\n",
       "4586  वायरल वीडियो के साथ किया गया 'लव जिहाद' का दाव...      0\n",
       "4587  सोशल मीडिया पर वायरल ये तस्वीर दरअसल कहाँ से ह...      0\n",
       "\n",
       "[4588 rows x 2 columns]"
      ]
     },
     "execution_count": 3,
     "metadata": {},
     "output_type": "execute_result"
    }
   ],
   "source": [
    "df = pd.read_csv('combined_news_all.csv')\n",
    "df"
   ]
  },
  {
   "cell_type": "code",
   "execution_count": 6,
   "metadata": {},
   "outputs": [],
   "source": [
    "X_train, y_train, X_valid, y_valid, X_test, y_test = train_valid_test_split(df, 'Label', train_size=0.8, valid_size=0.1, test_size=0.1)"
   ]
  }
 ],
 "metadata": {
  "interpreter": {
   "hash": "3b97bdc2c87e206e8291e5ab4f714e0f91846bfc9349b2ee1278ba67b5e1fb2e"
  },
  "kernelspec": {
   "display_name": "Python 3.10.4 64-bit",
   "language": "python",
   "name": "python3"
  },
  "language_info": {
   "codemirror_mode": {
    "name": "ipython",
    "version": 3
   },
   "file_extension": ".py",
   "mimetype": "text/x-python",
   "name": "python",
   "nbconvert_exporter": "python",
   "pygments_lexer": "ipython3",
   "version": "3.10.4"
  },
  "orig_nbformat": 4
 },
 "nbformat": 4,
 "nbformat_minor": 2
}
