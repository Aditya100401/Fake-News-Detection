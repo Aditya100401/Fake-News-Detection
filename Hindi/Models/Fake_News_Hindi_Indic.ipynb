{
  "cells": [
    {
      "cell_type": "code",
      "execution_count": null,
      "metadata": {
        "id": "U1BUgNkk4urR"
      },
      "outputs": [],
      "source": [
        "import sys\n",
        "from indicnlp import common\n",
        "# The path to the local git repo for Indic NLP library\n",
        "INDIC_NLP_LIB_HOME=r\"D:\\6th SEM\\Open Lab\\indic_nlp_library\"\n",
        "\n",
        "# The path to the local git repo for Indic NLP Resources\n",
        "INDIC_NLP_RESOURCES=r\"D:\\6th SEM\\Open Lab\\indic_nlp_resources\"\n",
        "\n",
        "# Add library to Python path\n",
        "sys.path.append(r'{}\\src'.format(INDIC_NLP_LIB_HOME))\n",
        "\n",
        "# Set environment variable for resources folder\n",
        "common.set_resources_path(INDIC_NLP_RESOURCES)"
      ]
    },
    {
      "cell_type": "code",
      "execution_count": 1,
      "metadata": {
        "id": "-ALDRPXmUHmp"
      },
      "outputs": [],
      "source": [
        "import pandas as pd\n",
        "news = pd.read_csv('lemmatized_news.csv', encoding='utf-8')"
      ]
    },
    {
      "cell_type": "code",
      "execution_count": null,
      "metadata": {
        "colab": {
          "base_uri": "https://localhost:8080/",
          "height": 206
        },
        "id": "HPt5AJmUUIg1",
        "outputId": "60ed166f-a96b-4e77-c88a-5cc75b01d1f3"
      },
      "outputs": [],
      "source": [
        "news.isnull().sum(axis = 0)\n",
        "news.head()"
      ]
    },
    {
      "cell_type": "code",
      "execution_count": null,
      "metadata": {
        "colab": {
          "base_uri": "https://localhost:8080/",
          "height": 285
        },
        "id": "HVm5w18PUMxY",
        "outputId": "f00427fa-949c-4cf6-f640-dcf42172dfb6"
      },
      "outputs": [],
      "source": [
        "pd.set_option('display.max_colwidth', None)\n",
        "news.head()"
      ]
    },
    {
      "cell_type": "code",
      "execution_count": 2,
      "metadata": {
        "colab": {
          "base_uri": "https://localhost:8080/"
        },
        "id": "kX8DX6Zv4NY8",
        "outputId": "38c2e0d0-f7c9-404d-b8aa-2667c2a80bbe"
      },
      "outputs": [
        {
          "name": "stderr",
          "output_type": "stream",
          "text": [
            "Downloading https://raw.githubusercontent.com/stanfordnlp/stanza-resources/main/resources_1.4.0.json: 154kB [00:00, 51.4MB/s]                    \n",
            "2022-06-07 19:15:10 INFO: Loading these models for language: hi (Hindi):\n",
            "=======================\n",
            "| Processor | Package |\n",
            "-----------------------\n",
            "| tokenize  | hdtb    |\n",
            "| pos       | hdtb    |\n",
            "| lemma     | hdtb    |\n",
            "=======================\n",
            "\n",
            "2022-06-07 19:15:10 INFO: Use device: cpu\n",
            "2022-06-07 19:15:10 INFO: Loading: tokenize\n",
            "2022-06-07 19:15:11 INFO: Loading: pos\n",
            "2022-06-07 19:15:11 INFO: Loading: lemma\n",
            "2022-06-07 19:15:12 INFO: Done loading processors!\n"
          ]
        }
      ],
      "source": [
        "import preProcessing\n",
        "from tqdm import tqdm"
      ]
    },
    {
      "cell_type": "code",
      "execution_count": null,
      "metadata": {
        "colab": {
          "base_uri": "https://localhost:8080/"
        },
        "id": "kQS6UeIb6IVq",
        "outputId": "33d6ef0b-74be-45dc-ca2a-9277fb37469b"
      },
      "outputs": [],
      "source": [
        "df = preProcessing.eachNews(news)"
      ]
    },
    {
      "cell_type": "code",
      "execution_count": null,
      "metadata": {
        "colab": {
          "base_uri": "https://localhost:8080/",
          "height": 267
        },
        "id": "gQ5ODDdAI7Q9",
        "outputId": "64b86a6c-6d00-451c-bd4e-c5c1ab9f733a"
      },
      "outputs": [],
      "source": [
        "df.head()"
      ]
    },
    {
      "cell_type": "code",
      "execution_count": 3,
      "metadata": {
        "colab": {
          "base_uri": "https://localhost:8080/",
          "height": 190,
          "referenced_widgets": [
            "648abe2bab3042558de86c95c5942ca3",
            "b3a4ca9d4a984d5e8021c9206ca0251c",
            "66edff512dd94040b9871da2f33f16c2",
            "e296dc01788847d49f58f520b67bd696",
            "b24375c3c5854af98b0f00aa7e47b281",
            "0b2e2829b6c04032854ca671cc2836d7",
            "ed9550c601d3491a9dc9e9ae3aa554eb",
            "8a28791946364d17950a291f10980fbc",
            "be554eb458d843398a75425f4f9790dd",
            "b7c21511087f4e779cad024a1d90ce6e",
            "5a6672583ac346259c1646df225075ca",
            "fe59ad47274d41f3b8611df973a06eb1",
            "2ed35757147543e29b592fd19b2366a7",
            "4c3cb80df7ca4bc283b3a5eb5b514752",
            "759da21079004befab92d39a17c0c7df",
            "90ea0e43e94d46c8a0ebcf58a3791bee",
            "fccc0fe8223044798b568f96c7a01644",
            "f450ca556dde4f30932e6d8accc543ee",
            "43050e3be3524f47a425bff03533624f",
            "08633cb49ef54584a0cd5408626e145f",
            "7c29d924aed34a5ebd8c0d57d892fb4a",
            "5d3035d7c324402ea6a1fc160aba8493",
            "63cc2f997c374b6e92c7f3ec6cba6081",
            "48d4e2d966f74b52bb908f35ee733a90",
            "ca29f2d2609b4aff944766ac46cac1a7",
            "a45d744801494d27aa711edfba4e1edb",
            "3a78a28083cd4a36831b9cec269807b8",
            "ff9b9761ba7d4be689e8da173b3a25ba",
            "425531baf36b42edac7449dfc26b60be",
            "c9782cedb74743fd83b39b733abc7356",
            "9fa4b07b1c7b43dda9cfd67f67909b1b",
            "99b8b80dd3974fb7b29a314c34347f4f",
            "477420b8b1794e519513177b9fefe987"
          ]
        },
        "id": "7LGce5PZYsZf",
        "outputId": "7328afaa-7ef0-49bb-edf7-ab8f9219b947"
      },
      "outputs": [
        {
          "name": "stderr",
          "output_type": "stream",
          "text": [
            "Some weights of the model checkpoint at ai4bharat/indic-bert were not used when initializing AlbertModel: ['sop_classifier.classifier.bias', 'predictions.decoder.bias', 'predictions.dense.weight', 'predictions.dense.bias', 'predictions.LayerNorm.bias', 'sop_classifier.classifier.weight', 'predictions.bias', 'predictions.LayerNorm.weight', 'predictions.decoder.weight']\n",
            "- This IS expected if you are initializing AlbertModel from the checkpoint of a model trained on another task or with another architecture (e.g. initializing a BertForSequenceClassification model from a BertForPreTraining model).\n",
            "- This IS NOT expected if you are initializing AlbertModel from the checkpoint of a model that you expect to be exactly identical (initializing a BertForSequenceClassification model from a BertForSequenceClassification model).\n"
          ]
        }
      ],
      "source": [
        "path = 'ai4bharat/indic-bert'\n",
        "## Loading the model\n",
        "from transformers import AutoModel, AutoTokenizer\n",
        "import torch\n",
        "\n",
        "tokenizer = AutoTokenizer.from_pretrained(path)\n",
        "model = AutoModel.from_pretrained(path,output_hidden_states=True)\n"
      ]
    },
    {
      "cell_type": "code",
      "execution_count": 6,
      "metadata": {
        "colab": {
          "base_uri": "https://localhost:8080/"
        },
        "id": "rgak4ckJiC7g",
        "outputId": "3d86bd20-033f-45ec-97fe-3dfd706f198b"
      },
      "outputs": [
        {
          "name": "stderr",
          "output_type": "stream",
          "text": [
            "100%|██████████| 4588/4588 [04:41<00:00, 16.27it/s]"
          ]
        },
        {
          "name": "stdout",
          "output_type": "stream",
          "text": [
            "Output shape is torch.Size([13, 1, 39, 768])\n"
          ]
        },
        {
          "name": "stderr",
          "output_type": "stream",
          "text": [
            "\n"
          ]
        }
      ],
      "source": [
        "## Embeddings \n",
        "final = []\n",
        "for i in tqdm(news.index):\n",
        "    temp = tokenizer.convert_ids_to_tokens(tokenizer.encode(news['News'][i]))\n",
        "    input_encoded = tokenizer.encode_plus(news['News'][i], return_tensors=\"pt\")\n",
        "    with torch.no_grad():\n",
        "        states = model(**input_encoded).hidden_states\n",
        "    output = torch.stack([states[i] for i in range(len(states))])\n",
        "    #output = output.squeeze()\n",
        "    token_vecs = output[-2][0]\n",
        "    sentence_embedding = torch.mean(token_vecs, dim=0)\n",
        "    sentence_embedding = sentence_embedding.tolist()\n",
        "    final.append(sentence_embedding)\n",
        "\n",
        "print(\"Output shape is {}\".format(output.shape))"
      ]
    },
    {
      "cell_type": "code",
      "execution_count": 7,
      "metadata": {
        "id": "KmSwpLgfmm-u"
      },
      "outputs": [],
      "source": [
        "import numpy as np\n",
        "final = np.array(final)"
      ]
    },
    {
      "cell_type": "code",
      "execution_count": 8,
      "metadata": {
        "colab": {
          "base_uri": "https://localhost:8080/"
        },
        "id": "UszDGS6brErG",
        "outputId": "5a836f7a-9ee9-4988-a713-0d93a3a08c41"
      },
      "outputs": [
        {
          "data": {
            "text/plain": [
              "(4588, 768)"
            ]
          },
          "execution_count": 8,
          "metadata": {},
          "output_type": "execute_result"
        }
      ],
      "source": [
        "final.shape"
      ]
    },
    {
      "cell_type": "code",
      "execution_count": 10,
      "metadata": {
        "id": "njKcnoPRrHri"
      },
      "outputs": [],
      "source": [
        "from sklearn.model_selection import train_test_split\n",
        "\n",
        "X_train, X_rem, y_train, y_rem = train_test_split(final, np.array(news['Label'].tolist()), train_size=0.8)\n",
        "X_valid, X_test, y_valid, y_test = train_test_split(X_rem,y_rem, test_size=0.5)"
      ]
    },
    {
      "cell_type": "code",
      "execution_count": 17,
      "metadata": {
        "colab": {
          "base_uri": "https://localhost:8080/"
        },
        "id": "uStEge7sttjJ",
        "outputId": "48082717-8df9-49be-faa5-9d19e80b7153"
      },
      "outputs": [
        {
          "name": "stdout",
          "output_type": "stream",
          "text": [
            "SVM Accuracy Score ->  97.6 %\n"
          ]
        }
      ],
      "source": [
        "import numpy as np\n",
        "import matplotlib.pyplot as plt\n",
        "from sklearn import svm\n",
        "from sklearn.metrics import accuracy_score\n",
        "import dill\n",
        "\n",
        "SVM = svm.SVC(C=50, kernel='rbf', gamma='auto')\n",
        "SVM.fit(X_train,y_train)\n",
        "dill.dump(SVM, open(\"SVM_Model.sav\",\"wb\"))\n",
        "# predict the labels on validation dataset\n",
        "predictions_SVM = SVM.predict(X_rem)\n",
        "\n",
        "# Use accuracy_score function to get the accuracy\n",
        "print(\"SVM Accuracy Score -> \",round((accuracy_score(predictions_SVM, y_rem)*100),2),\"%\")"
      ]
    },
    {
      "cell_type": "code",
      "execution_count": null,
      "metadata": {
        "colab": {
          "base_uri": "https://localhost:8080/",
          "height": 279
        },
        "id": "bK3sPoSwAJGt",
        "outputId": "9678d637-e311-4aa5-f141-f17e0ca8dcb6"
      },
      "outputs": [],
      "source": [
        "from sklearn.metrics import (precision_recall_curve,PrecisionRecallDisplay)\n",
        "\n",
        "precision, recall, _ = precision_recall_curve(y_rem, predictions_SVM)\n",
        "disp = PrecisionRecallDisplay(precision=precision, recall=recall)\n",
        "disp.plot()\n",
        "plt.show()"
      ]
    },
    {
      "cell_type": "code",
      "execution_count": null,
      "metadata": {
        "id": "a7cio1cJ842H"
      },
      "outputs": [],
      "source": [
        "from sklearn.metrics import roc_curve\n",
        "\n",
        "pred = SVM.predict(X_rem).ravel()\n",
        "fpr_keras, tpr_keras, thresholds_keras = roc_curve(y_rem, pred)"
      ]
    },
    {
      "cell_type": "code",
      "execution_count": null,
      "metadata": {
        "id": "QbGarRcT8vTq"
      },
      "outputs": [],
      "source": [
        "from sklearn.metrics import auc\n",
        "auc_keras = round((auc(fpr_keras, tpr_keras)*100),2)"
      ]
    },
    {
      "cell_type": "code",
      "execution_count": null,
      "metadata": {
        "colab": {
          "base_uri": "https://localhost:8080/",
          "height": 295
        },
        "id": "o-uj4LH58y1z",
        "outputId": "3126766d-e383-4331-a07c-b814f3c68fbf"
      },
      "outputs": [],
      "source": [
        "import matplotlib.pyplot as plt\n",
        "\n",
        "plt.figure(1)\n",
        "plt.plot([0, 1], [0, 1], 'k--')\n",
        "plt.plot(fpr_keras, tpr_keras, label='SVM Classifier AUC = {:.3f})'.format(auc_keras))\n",
        "plt.xlabel('False positive rate')\n",
        "plt.ylabel('True positive rate')\n",
        "plt.title('ROC curve')\n",
        "plt.legend(loc='best')\n",
        "plt.show()"
      ]
    },
    {
      "cell_type": "code",
      "execution_count": 12,
      "metadata": {
        "id": "yrqmYyyq8g4y"
      },
      "outputs": [],
      "source": [
        "from keras.models import Sequential\n",
        "from keras.layers import Dense, LSTM, Dropout\n",
        "from keras.models import Model, Sequential\n",
        "import keras\n",
        "from keras import layers\n",
        "from keras.callbacks import ModelCheckpoint\n",
        "import tensorflow as tf"
      ]
    },
    {
      "cell_type": "code",
      "execution_count": 13,
      "metadata": {
        "id": "kdSo8uuw8iPh"
      },
      "outputs": [],
      "source": [
        "cnnModel = Sequential()\n",
        "cnnModel.add(layers.LSTM(units=50, activation='relu', return_sequences=True, \n",
        "                input_shape=(X_train.shape[1], 1)))\n",
        "cnnModel.add(layers.Dropout(0.3))\n",
        "\n",
        "cnnModel.add(layers.Convolution1D(32, 4,activation='relu'))\n",
        "cnnModel.add(layers.Dropout(0.4))\n",
        "\n",
        "cnnModel.add(layers.AveragePooling1D())\n",
        "\n",
        "cnnModel.add(layers.Convolution1D(64, 4,activation='relu'))\n",
        "cnnModel.add(layers.Dropout(0.4))\n",
        "\n",
        "cnnModel.add(layers.AveragePooling1D())\n",
        "\n",
        "cnnModel.add(layers.Flatten())\n",
        "cnnModel.add(layers.Dropout(0.5))\n",
        "\n",
        "cnnModel.add(layers.Dense(units=1, activation='sigmoid'))"
      ]
    },
    {
      "cell_type": "code",
      "execution_count": 14,
      "metadata": {
        "colab": {
          "base_uri": "https://localhost:8080/"
        },
        "id": "R6FKpDXp8n8j",
        "outputId": "fa78bf94-7f9a-43ec-b6ee-fa7e3d088ac7"
      },
      "outputs": [
        {
          "name": "stdout",
          "output_type": "stream",
          "text": [
            "Model: \"sequential\"\n",
            "_________________________________________________________________\n",
            " Layer (type)                Output Shape              Param #   \n",
            "=================================================================\n",
            " lstm (LSTM)                 (None, 768, 50)           10400     \n",
            "                                                                 \n",
            " dropout (Dropout)           (None, 768, 50)           0         \n",
            "                                                                 \n",
            " conv1d (Conv1D)             (None, 765, 32)           6432      \n",
            "                                                                 \n",
            " dropout_1 (Dropout)         (None, 765, 32)           0         \n",
            "                                                                 \n",
            " average_pooling1d (AverageP  (None, 382, 32)          0         \n",
            " ooling1D)                                                       \n",
            "                                                                 \n",
            " conv1d_1 (Conv1D)           (None, 379, 64)           8256      \n",
            "                                                                 \n",
            " dropout_2 (Dropout)         (None, 379, 64)           0         \n",
            "                                                                 \n",
            " average_pooling1d_1 (Averag  (None, 189, 64)          0         \n",
            " ePooling1D)                                                     \n",
            "                                                                 \n",
            " flatten (Flatten)           (None, 12096)             0         \n",
            "                                                                 \n",
            " dropout_3 (Dropout)         (None, 12096)             0         \n",
            "                                                                 \n",
            " dense (Dense)               (None, 1)                 12097     \n",
            "                                                                 \n",
            "=================================================================\n",
            "Total params: 37,185\n",
            "Trainable params: 37,185\n",
            "Non-trainable params: 0\n",
            "_________________________________________________________________\n"
          ]
        }
      ],
      "source": [
        "cnnModel.summary()"
      ]
    },
    {
      "cell_type": "code",
      "execution_count": 15,
      "metadata": {
        "colab": {
          "base_uri": "https://localhost:8080/"
        },
        "id": "FFf8RbpZ8sKq",
        "outputId": "1b0f1ee9-eedc-4cc3-aeff-072266ff47bf"
      },
      "outputs": [
        {
          "name": "stdout",
          "output_type": "stream",
          "text": [
            "Epoch 1/25\n",
            "15/15 [==============================] - ETA: 0s - loss: 0.6923 - binary_accuracy: 0.5311\n",
            "Epoch 1: val_binary_accuracy improved from -inf to 0.48366, saving model to modelCaseIndic.h5\n",
            "15/15 [==============================] - 41s 3s/step - loss: 0.6923 - binary_accuracy: 0.5311 - val_loss: 0.6901 - val_binary_accuracy: 0.4837\n",
            "Epoch 2/25\n",
            "15/15 [==============================] - ETA: 0s - loss: 0.6806 - binary_accuracy: 0.6128\n",
            "Epoch 2: val_binary_accuracy improved from 0.48366 to 0.77996, saving model to modelCaseIndic.h5\n",
            "15/15 [==============================] - 46s 3s/step - loss: 0.6806 - binary_accuracy: 0.6128 - val_loss: 0.6502 - val_binary_accuracy: 0.7800\n",
            "Epoch 3/25\n",
            "15/15 [==============================] - ETA: 0s - loss: 0.5885 - binary_accuracy: 0.7259\n",
            "Epoch 3: val_binary_accuracy improved from 0.77996 to 0.82353, saving model to modelCaseIndic.h5\n",
            "15/15 [==============================] - 48s 3s/step - loss: 0.5885 - binary_accuracy: 0.7259 - val_loss: 0.4628 - val_binary_accuracy: 0.8235\n",
            "Epoch 4/25\n",
            "15/15 [==============================] - ETA: 0s - loss: 0.4373 - binary_accuracy: 0.7940\n",
            "Epoch 4: val_binary_accuracy improved from 0.82353 to 0.82789, saving model to modelCaseIndic.h5\n",
            "15/15 [==============================] - 50s 3s/step - loss: 0.4373 - binary_accuracy: 0.7940 - val_loss: 0.3829 - val_binary_accuracy: 0.8279\n",
            "Epoch 5/25\n",
            "15/15 [==============================] - ETA: 0s - loss: 0.3680 - binary_accuracy: 0.8485\n",
            "Epoch 5: val_binary_accuracy improved from 0.82789 to 0.92375, saving model to modelCaseIndic.h5\n",
            "15/15 [==============================] - 55s 4s/step - loss: 0.3680 - binary_accuracy: 0.8485 - val_loss: 0.2899 - val_binary_accuracy: 0.9237\n",
            "Epoch 6/25\n",
            "15/15 [==============================] - ETA: 0s - loss: 0.3035 - binary_accuracy: 0.8834\n",
            "Epoch 6: val_binary_accuracy did not improve from 0.92375\n",
            "15/15 [==============================] - 65s 4s/step - loss: 0.3035 - binary_accuracy: 0.8834 - val_loss: 0.2424 - val_binary_accuracy: 0.9194\n",
            "Epoch 7/25\n",
            "15/15 [==============================] - ETA: 0s - loss: 0.2680 - binary_accuracy: 0.9060\n",
            "Epoch 7: val_binary_accuracy did not improve from 0.92375\n",
            "15/15 [==============================] - 75s 5s/step - loss: 0.2680 - binary_accuracy: 0.9060 - val_loss: 0.2286 - val_binary_accuracy: 0.9150\n",
            "Epoch 8/25\n",
            "15/15 [==============================] - ETA: 0s - loss: 0.2522 - binary_accuracy: 0.9052\n",
            "Epoch 8: val_binary_accuracy improved from 0.92375 to 0.93028, saving model to modelCaseIndic.h5\n",
            "15/15 [==============================] - 68s 5s/step - loss: 0.2522 - binary_accuracy: 0.9052 - val_loss: 0.2014 - val_binary_accuracy: 0.9303\n",
            "Epoch 9/25\n",
            "15/15 [==============================] - ETA: 0s - loss: 0.2236 - binary_accuracy: 0.9316\n",
            "Epoch 9: val_binary_accuracy did not improve from 0.93028\n",
            "15/15 [==============================] - 70s 5s/step - loss: 0.2236 - binary_accuracy: 0.9316 - val_loss: 0.1999 - val_binary_accuracy: 0.9194\n",
            "Epoch 10/25\n",
            "15/15 [==============================] - ETA: 0s - loss: 0.2082 - binary_accuracy: 0.9330\n",
            "Epoch 10: val_binary_accuracy improved from 0.93028 to 0.93246, saving model to modelCaseIndic.h5\n",
            "15/15 [==============================] - 66s 4s/step - loss: 0.2082 - binary_accuracy: 0.9330 - val_loss: 0.1862 - val_binary_accuracy: 0.9325\n",
            "Epoch 11/25\n",
            "15/15 [==============================] - ETA: 0s - loss: 0.1997 - binary_accuracy: 0.9335\n",
            "Epoch 11: val_binary_accuracy did not improve from 0.93246\n",
            "15/15 [==============================] - 71s 5s/step - loss: 0.1997 - binary_accuracy: 0.9335 - val_loss: 0.1809 - val_binary_accuracy: 0.9303\n",
            "Epoch 12/25\n",
            "15/15 [==============================] - ETA: 0s - loss: 0.1909 - binary_accuracy: 0.9398\n",
            "Epoch 12: val_binary_accuracy improved from 0.93246 to 0.94336, saving model to modelCaseIndic.h5\n",
            "15/15 [==============================] - 66s 4s/step - loss: 0.1909 - binary_accuracy: 0.9398 - val_loss: 0.1703 - val_binary_accuracy: 0.9434\n",
            "Epoch 13/25\n",
            "15/15 [==============================] - ETA: 0s - loss: 0.1892 - binary_accuracy: 0.9390\n",
            "Epoch 13: val_binary_accuracy did not improve from 0.94336\n",
            "15/15 [==============================] - 69s 5s/step - loss: 0.1892 - binary_accuracy: 0.9390 - val_loss: 0.1678 - val_binary_accuracy: 0.9325\n",
            "Epoch 14/25\n",
            "15/15 [==============================] - ETA: 0s - loss: 0.1710 - binary_accuracy: 0.9460\n",
            "Epoch 14: val_binary_accuracy improved from 0.94336 to 0.94771, saving model to modelCaseIndic.h5\n",
            "15/15 [==============================] - 66s 5s/step - loss: 0.1710 - binary_accuracy: 0.9460 - val_loss: 0.1602 - val_binary_accuracy: 0.9477\n",
            "Epoch 15/25\n",
            "15/15 [==============================] - ETA: 0s - loss: 0.1687 - binary_accuracy: 0.9455\n",
            "Epoch 15: val_binary_accuracy improved from 0.94771 to 0.95643, saving model to modelCaseIndic.h5\n",
            "15/15 [==============================] - 69s 4s/step - loss: 0.1687 - binary_accuracy: 0.9455 - val_loss: 0.1524 - val_binary_accuracy: 0.9564\n",
            "Epoch 16/25\n",
            "15/15 [==============================] - ETA: 0s - loss: 0.1670 - binary_accuracy: 0.9493\n",
            "Epoch 16: val_binary_accuracy did not improve from 0.95643\n",
            "15/15 [==============================] - 69s 5s/step - loss: 0.1670 - binary_accuracy: 0.9493 - val_loss: 0.1541 - val_binary_accuracy: 0.9434\n",
            "Epoch 17/25\n",
            "15/15 [==============================] - ETA: 0s - loss: 0.1711 - binary_accuracy: 0.9471\n",
            "Epoch 17: val_binary_accuracy did not improve from 0.95643\n",
            "15/15 [==============================] - 87s 6s/step - loss: 0.1711 - binary_accuracy: 0.9471 - val_loss: 0.1467 - val_binary_accuracy: 0.9521\n",
            "Epoch 18/25\n",
            "15/15 [==============================] - ETA: 0s - loss: 0.1690 - binary_accuracy: 0.9441\n",
            "Epoch 18: val_binary_accuracy improved from 0.95643 to 0.96078, saving model to modelCaseIndic.h5\n",
            "15/15 [==============================] - 71s 5s/step - loss: 0.1690 - binary_accuracy: 0.9441 - val_loss: 0.1433 - val_binary_accuracy: 0.9608\n",
            "Epoch 19/25\n",
            "15/15 [==============================] - ETA: 0s - loss: 0.1602 - binary_accuracy: 0.9504\n",
            "Epoch 19: val_binary_accuracy did not improve from 0.96078\n",
            "15/15 [==============================] - 66s 4s/step - loss: 0.1602 - binary_accuracy: 0.9504 - val_loss: 0.1372 - val_binary_accuracy: 0.9542\n",
            "Epoch 20/25\n",
            "15/15 [==============================] - ETA: 0s - loss: 0.1504 - binary_accuracy: 0.9556\n",
            "Epoch 20: val_binary_accuracy did not improve from 0.96078\n",
            "15/15 [==============================] - 62s 4s/step - loss: 0.1504 - binary_accuracy: 0.9556 - val_loss: 0.1394 - val_binary_accuracy: 0.9542\n",
            "Epoch 21/25\n",
            "15/15 [==============================] - ETA: 0s - loss: 0.1529 - binary_accuracy: 0.9540\n",
            "Epoch 21: val_binary_accuracy did not improve from 0.96078\n",
            "15/15 [==============================] - 62s 4s/step - loss: 0.1529 - binary_accuracy: 0.9540 - val_loss: 0.1316 - val_binary_accuracy: 0.9586\n",
            "Epoch 22/25\n",
            "15/15 [==============================] - ETA: 0s - loss: 0.1476 - binary_accuracy: 0.9553\n",
            "Epoch 22: val_binary_accuracy did not improve from 0.96078\n",
            "15/15 [==============================] - 64s 4s/step - loss: 0.1476 - binary_accuracy: 0.9553 - val_loss: 0.1315 - val_binary_accuracy: 0.9586\n",
            "Epoch 23/25\n",
            "15/15 [==============================] - ETA: 0s - loss: 0.1392 - binary_accuracy: 0.9610\n",
            "Epoch 23: val_binary_accuracy did not improve from 0.96078\n",
            "15/15 [==============================] - 64s 4s/step - loss: 0.1392 - binary_accuracy: 0.9610 - val_loss: 0.1362 - val_binary_accuracy: 0.9521\n",
            "Epoch 24/25\n",
            "15/15 [==============================] - ETA: 0s - loss: 0.1467 - binary_accuracy: 0.9537\n",
            "Epoch 24: val_binary_accuracy improved from 0.96078 to 0.96296, saving model to modelCaseIndic.h5\n",
            "15/15 [==============================] - 71s 5s/step - loss: 0.1467 - binary_accuracy: 0.9537 - val_loss: 0.1309 - val_binary_accuracy: 0.9630\n",
            "Epoch 25/25\n",
            "15/15 [==============================] - ETA: 0s - loss: 0.1406 - binary_accuracy: 0.9575\n",
            "Epoch 25: val_binary_accuracy did not improve from 0.96296\n",
            "15/15 [==============================] - 65s 4s/step - loss: 0.1406 - binary_accuracy: 0.9575 - val_loss: 0.1306 - val_binary_accuracy: 0.9542\n"
          ]
        },
        {
          "data": {
            "text/plain": [
              "<keras.callbacks.History at 0x1efe1419660>"
            ]
          },
          "execution_count": 15,
          "metadata": {},
          "output_type": "execute_result"
        }
      ],
      "source": [
        "cnnModel.compile(optimizer='adam', loss=tf.keras.losses.BinaryCrossentropy(), \n",
        "                    metrics=[tf.keras.metrics.BinaryAccuracy()])\n",
        "\n",
        "checkpoint = ModelCheckpoint('modelCaseIndic.h5',verbose=1, monitor='val_binary_accuracy',save_best_only=True, mode='auto')\n",
        "\n",
        "#checkpoint = ModelCheckpoint('model.h5',verbose=1, monitor='loss',save_best_only=True, mode='auto')\n",
        "\n",
        "\n",
        "cnnModel.fit(x=X_train, y=y_train, batch_size=256, epochs=25, \n",
        "                validation_data=(X_valid,y_valid), callbacks=[checkpoint])"
      ]
    },
    {
      "cell_type": "code",
      "execution_count": 16,
      "metadata": {},
      "outputs": [
        {
          "name": "stdout",
          "output_type": "stream",
          "text": [
            "Accuracy : 98.15%\n"
          ]
        },
        {
          "name": "stderr",
          "output_type": "stream",
          "text": [
            "d:\\Imp Programs\\Python\\lib\\site-packages\\sklearn\\linear_model\\_logistic.py:814: ConvergenceWarning: lbfgs failed to converge (status=1):\n",
            "STOP: TOTAL NO. of ITERATIONS REACHED LIMIT.\n",
            "\n",
            "Increase the number of iterations (max_iter) or scale the data as shown in:\n",
            "    https://scikit-learn.org/stable/modules/preprocessing.html\n",
            "Please also refer to the documentation for alternative solver options:\n",
            "    https://scikit-learn.org/stable/modules/linear_model.html#logistic-regression\n",
            "  n_iter_i = _check_optimize_result(\n"
          ]
        }
      ],
      "source": [
        "from sklearn.preprocessing import StandardScaler\n",
        "from sklearn.linear_model import LogisticRegression\n",
        "import dill\n",
        "from sklearn.metrics import accuracy_score\n",
        "\n",
        "sc_x = StandardScaler()\n",
        "xtrain = sc_x.fit_transform(X_train)\n",
        "xtest = sc_x.transform(X_rem)\n",
        "\n",
        "classifier = LogisticRegression(random_state = 0)\n",
        "classifier.fit(X_train, y_train)\n",
        "\n",
        "dill.dump(classifier, open('logisticCase.sav', 'wb'))\n",
        "y_pred = classifier.predict(X_rem)\n",
        "\n",
        "print (f\"Accuracy : {(accuracy_score(y_rem, y_pred)*100):.2f}%\")"
      ]
    }
  ],
  "metadata": {
    "colab": {
      "collapsed_sections": [],
      "name": "Fake_News_Hindi.ipynb",
      "provenance": []
    },
    "interpreter": {
      "hash": "3b97bdc2c87e206e8291e5ab4f714e0f91846bfc9349b2ee1278ba67b5e1fb2e"
    },
    "kernelspec": {
      "display_name": "Python 3.10.4 64-bit",
      "language": "python",
      "name": "python3"
    },
    "language_info": {
      "codemirror_mode": {
        "name": "ipython",
        "version": 3
      },
      "file_extension": ".py",
      "mimetype": "text/x-python",
      "name": "python",
      "nbconvert_exporter": "python",
      "pygments_lexer": "ipython3",
      "version": "3.10.4"
    },
    "widgets": {
      "application/vnd.jupyter.widget-state+json": {
        "08633cb49ef54584a0cd5408626e145f": {
          "model_module": "@jupyter-widgets/controls",
          "model_module_version": "1.5.0",
          "model_name": "ProgressStyleModel",
          "state": {
            "_model_module": "@jupyter-widgets/controls",
            "_model_module_version": "1.5.0",
            "_model_name": "ProgressStyleModel",
            "_view_count": null,
            "_view_module": "@jupyter-widgets/base",
            "_view_module_version": "1.2.0",
            "_view_name": "StyleView",
            "bar_color": null,
            "description_width": ""
          }
        },
        "0b2e2829b6c04032854ca671cc2836d7": {
          "model_module": "@jupyter-widgets/base",
          "model_module_version": "1.2.0",
          "model_name": "LayoutModel",
          "state": {
            "_model_module": "@jupyter-widgets/base",
            "_model_module_version": "1.2.0",
            "_model_name": "LayoutModel",
            "_view_count": null,
            "_view_module": "@jupyter-widgets/base",
            "_view_module_version": "1.2.0",
            "_view_name": "LayoutView",
            "align_content": null,
            "align_items": null,
            "align_self": null,
            "border": null,
            "bottom": null,
            "display": null,
            "flex": null,
            "flex_flow": null,
            "grid_area": null,
            "grid_auto_columns": null,
            "grid_auto_flow": null,
            "grid_auto_rows": null,
            "grid_column": null,
            "grid_gap": null,
            "grid_row": null,
            "grid_template_areas": null,
            "grid_template_columns": null,
            "grid_template_rows": null,
            "height": null,
            "justify_content": null,
            "justify_items": null,
            "left": null,
            "margin": null,
            "max_height": null,
            "max_width": null,
            "min_height": null,
            "min_width": null,
            "object_fit": null,
            "object_position": null,
            "order": null,
            "overflow": null,
            "overflow_x": null,
            "overflow_y": null,
            "padding": null,
            "right": null,
            "top": null,
            "visibility": null,
            "width": null
          }
        },
        "2ed35757147543e29b592fd19b2366a7": {
          "model_module": "@jupyter-widgets/controls",
          "model_module_version": "1.5.0",
          "model_name": "HTMLModel",
          "state": {
            "_dom_classes": [],
            "_model_module": "@jupyter-widgets/controls",
            "_model_module_version": "1.5.0",
            "_model_name": "HTMLModel",
            "_view_count": null,
            "_view_module": "@jupyter-widgets/controls",
            "_view_module_version": "1.5.0",
            "_view_name": "HTMLView",
            "description": "",
            "description_tooltip": null,
            "layout": "IPY_MODEL_fccc0fe8223044798b568f96c7a01644",
            "placeholder": "​",
            "style": "IPY_MODEL_f450ca556dde4f30932e6d8accc543ee",
            "value": "Downloading: 100%"
          }
        },
        "3a78a28083cd4a36831b9cec269807b8": {
          "model_module": "@jupyter-widgets/base",
          "model_module_version": "1.2.0",
          "model_name": "LayoutModel",
          "state": {
            "_model_module": "@jupyter-widgets/base",
            "_model_module_version": "1.2.0",
            "_model_name": "LayoutModel",
            "_view_count": null,
            "_view_module": "@jupyter-widgets/base",
            "_view_module_version": "1.2.0",
            "_view_name": "LayoutView",
            "align_content": null,
            "align_items": null,
            "align_self": null,
            "border": null,
            "bottom": null,
            "display": null,
            "flex": null,
            "flex_flow": null,
            "grid_area": null,
            "grid_auto_columns": null,
            "grid_auto_flow": null,
            "grid_auto_rows": null,
            "grid_column": null,
            "grid_gap": null,
            "grid_row": null,
            "grid_template_areas": null,
            "grid_template_columns": null,
            "grid_template_rows": null,
            "height": null,
            "justify_content": null,
            "justify_items": null,
            "left": null,
            "margin": null,
            "max_height": null,
            "max_width": null,
            "min_height": null,
            "min_width": null,
            "object_fit": null,
            "object_position": null,
            "order": null,
            "overflow": null,
            "overflow_x": null,
            "overflow_y": null,
            "padding": null,
            "right": null,
            "top": null,
            "visibility": null,
            "width": null
          }
        },
        "425531baf36b42edac7449dfc26b60be": {
          "model_module": "@jupyter-widgets/controls",
          "model_module_version": "1.5.0",
          "model_name": "DescriptionStyleModel",
          "state": {
            "_model_module": "@jupyter-widgets/controls",
            "_model_module_version": "1.5.0",
            "_model_name": "DescriptionStyleModel",
            "_view_count": null,
            "_view_module": "@jupyter-widgets/base",
            "_view_module_version": "1.2.0",
            "_view_name": "StyleView",
            "description_width": ""
          }
        },
        "43050e3be3524f47a425bff03533624f": {
          "model_module": "@jupyter-widgets/base",
          "model_module_version": "1.2.0",
          "model_name": "LayoutModel",
          "state": {
            "_model_module": "@jupyter-widgets/base",
            "_model_module_version": "1.2.0",
            "_model_name": "LayoutModel",
            "_view_count": null,
            "_view_module": "@jupyter-widgets/base",
            "_view_module_version": "1.2.0",
            "_view_name": "LayoutView",
            "align_content": null,
            "align_items": null,
            "align_self": null,
            "border": null,
            "bottom": null,
            "display": null,
            "flex": null,
            "flex_flow": null,
            "grid_area": null,
            "grid_auto_columns": null,
            "grid_auto_flow": null,
            "grid_auto_rows": null,
            "grid_column": null,
            "grid_gap": null,
            "grid_row": null,
            "grid_template_areas": null,
            "grid_template_columns": null,
            "grid_template_rows": null,
            "height": null,
            "justify_content": null,
            "justify_items": null,
            "left": null,
            "margin": null,
            "max_height": null,
            "max_width": null,
            "min_height": null,
            "min_width": null,
            "object_fit": null,
            "object_position": null,
            "order": null,
            "overflow": null,
            "overflow_x": null,
            "overflow_y": null,
            "padding": null,
            "right": null,
            "top": null,
            "visibility": null,
            "width": null
          }
        },
        "477420b8b1794e519513177b9fefe987": {
          "model_module": "@jupyter-widgets/controls",
          "model_module_version": "1.5.0",
          "model_name": "DescriptionStyleModel",
          "state": {
            "_model_module": "@jupyter-widgets/controls",
            "_model_module_version": "1.5.0",
            "_model_name": "DescriptionStyleModel",
            "_view_count": null,
            "_view_module": "@jupyter-widgets/base",
            "_view_module_version": "1.2.0",
            "_view_name": "StyleView",
            "description_width": ""
          }
        },
        "48d4e2d966f74b52bb908f35ee733a90": {
          "model_module": "@jupyter-widgets/controls",
          "model_module_version": "1.5.0",
          "model_name": "HTMLModel",
          "state": {
            "_dom_classes": [],
            "_model_module": "@jupyter-widgets/controls",
            "_model_module_version": "1.5.0",
            "_model_name": "HTMLModel",
            "_view_count": null,
            "_view_module": "@jupyter-widgets/controls",
            "_view_module_version": "1.5.0",
            "_view_name": "HTMLView",
            "description": "",
            "description_tooltip": null,
            "layout": "IPY_MODEL_ff9b9761ba7d4be689e8da173b3a25ba",
            "placeholder": "​",
            "style": "IPY_MODEL_425531baf36b42edac7449dfc26b60be",
            "value": "Downloading: 100%"
          }
        },
        "4c3cb80df7ca4bc283b3a5eb5b514752": {
          "model_module": "@jupyter-widgets/controls",
          "model_module_version": "1.5.0",
          "model_name": "FloatProgressModel",
          "state": {
            "_dom_classes": [],
            "_model_module": "@jupyter-widgets/controls",
            "_model_module_version": "1.5.0",
            "_model_name": "FloatProgressModel",
            "_view_count": null,
            "_view_module": "@jupyter-widgets/controls",
            "_view_module_version": "1.5.0",
            "_view_name": "ProgressView",
            "bar_style": "success",
            "description": "",
            "description_tooltip": null,
            "layout": "IPY_MODEL_43050e3be3524f47a425bff03533624f",
            "max": 5646064,
            "min": 0,
            "orientation": "horizontal",
            "style": "IPY_MODEL_08633cb49ef54584a0cd5408626e145f",
            "value": 5646064
          }
        },
        "5a6672583ac346259c1646df225075ca": {
          "model_module": "@jupyter-widgets/controls",
          "model_module_version": "1.5.0",
          "model_name": "DescriptionStyleModel",
          "state": {
            "_model_module": "@jupyter-widgets/controls",
            "_model_module_version": "1.5.0",
            "_model_name": "DescriptionStyleModel",
            "_view_count": null,
            "_view_module": "@jupyter-widgets/base",
            "_view_module_version": "1.2.0",
            "_view_name": "StyleView",
            "description_width": ""
          }
        },
        "5d3035d7c324402ea6a1fc160aba8493": {
          "model_module": "@jupyter-widgets/controls",
          "model_module_version": "1.5.0",
          "model_name": "DescriptionStyleModel",
          "state": {
            "_model_module": "@jupyter-widgets/controls",
            "_model_module_version": "1.5.0",
            "_model_name": "DescriptionStyleModel",
            "_view_count": null,
            "_view_module": "@jupyter-widgets/base",
            "_view_module_version": "1.2.0",
            "_view_name": "StyleView",
            "description_width": ""
          }
        },
        "63cc2f997c374b6e92c7f3ec6cba6081": {
          "model_module": "@jupyter-widgets/controls",
          "model_module_version": "1.5.0",
          "model_name": "HBoxModel",
          "state": {
            "_dom_classes": [],
            "_model_module": "@jupyter-widgets/controls",
            "_model_module_version": "1.5.0",
            "_model_name": "HBoxModel",
            "_view_count": null,
            "_view_module": "@jupyter-widgets/controls",
            "_view_module_version": "1.5.0",
            "_view_name": "HBoxView",
            "box_style": "",
            "children": [
              "IPY_MODEL_48d4e2d966f74b52bb908f35ee733a90",
              "IPY_MODEL_ca29f2d2609b4aff944766ac46cac1a7",
              "IPY_MODEL_a45d744801494d27aa711edfba4e1edb"
            ],
            "layout": "IPY_MODEL_3a78a28083cd4a36831b9cec269807b8"
          }
        },
        "648abe2bab3042558de86c95c5942ca3": {
          "model_module": "@jupyter-widgets/controls",
          "model_module_version": "1.5.0",
          "model_name": "HBoxModel",
          "state": {
            "_dom_classes": [],
            "_model_module": "@jupyter-widgets/controls",
            "_model_module_version": "1.5.0",
            "_model_name": "HBoxModel",
            "_view_count": null,
            "_view_module": "@jupyter-widgets/controls",
            "_view_module_version": "1.5.0",
            "_view_name": "HBoxView",
            "box_style": "",
            "children": [
              "IPY_MODEL_b3a4ca9d4a984d5e8021c9206ca0251c",
              "IPY_MODEL_66edff512dd94040b9871da2f33f16c2",
              "IPY_MODEL_e296dc01788847d49f58f520b67bd696"
            ],
            "layout": "IPY_MODEL_b24375c3c5854af98b0f00aa7e47b281"
          }
        },
        "66edff512dd94040b9871da2f33f16c2": {
          "model_module": "@jupyter-widgets/controls",
          "model_module_version": "1.5.0",
          "model_name": "FloatProgressModel",
          "state": {
            "_dom_classes": [],
            "_model_module": "@jupyter-widgets/controls",
            "_model_module_version": "1.5.0",
            "_model_name": "FloatProgressModel",
            "_view_count": null,
            "_view_module": "@jupyter-widgets/controls",
            "_view_module_version": "1.5.0",
            "_view_name": "ProgressView",
            "bar_style": "success",
            "description": "",
            "description_tooltip": null,
            "layout": "IPY_MODEL_8a28791946364d17950a291f10980fbc",
            "max": 507,
            "min": 0,
            "orientation": "horizontal",
            "style": "IPY_MODEL_be554eb458d843398a75425f4f9790dd",
            "value": 507
          }
        },
        "759da21079004befab92d39a17c0c7df": {
          "model_module": "@jupyter-widgets/controls",
          "model_module_version": "1.5.0",
          "model_name": "HTMLModel",
          "state": {
            "_dom_classes": [],
            "_model_module": "@jupyter-widgets/controls",
            "_model_module_version": "1.5.0",
            "_model_name": "HTMLModel",
            "_view_count": null,
            "_view_module": "@jupyter-widgets/controls",
            "_view_module_version": "1.5.0",
            "_view_name": "HTMLView",
            "description": "",
            "description_tooltip": null,
            "layout": "IPY_MODEL_7c29d924aed34a5ebd8c0d57d892fb4a",
            "placeholder": "​",
            "style": "IPY_MODEL_5d3035d7c324402ea6a1fc160aba8493",
            "value": " 5.38M/5.38M [00:00&lt;00:00, 16.8MB/s]"
          }
        },
        "7c29d924aed34a5ebd8c0d57d892fb4a": {
          "model_module": "@jupyter-widgets/base",
          "model_module_version": "1.2.0",
          "model_name": "LayoutModel",
          "state": {
            "_model_module": "@jupyter-widgets/base",
            "_model_module_version": "1.2.0",
            "_model_name": "LayoutModel",
            "_view_count": null,
            "_view_module": "@jupyter-widgets/base",
            "_view_module_version": "1.2.0",
            "_view_name": "LayoutView",
            "align_content": null,
            "align_items": null,
            "align_self": null,
            "border": null,
            "bottom": null,
            "display": null,
            "flex": null,
            "flex_flow": null,
            "grid_area": null,
            "grid_auto_columns": null,
            "grid_auto_flow": null,
            "grid_auto_rows": null,
            "grid_column": null,
            "grid_gap": null,
            "grid_row": null,
            "grid_template_areas": null,
            "grid_template_columns": null,
            "grid_template_rows": null,
            "height": null,
            "justify_content": null,
            "justify_items": null,
            "left": null,
            "margin": null,
            "max_height": null,
            "max_width": null,
            "min_height": null,
            "min_width": null,
            "object_fit": null,
            "object_position": null,
            "order": null,
            "overflow": null,
            "overflow_x": null,
            "overflow_y": null,
            "padding": null,
            "right": null,
            "top": null,
            "visibility": null,
            "width": null
          }
        },
        "8a28791946364d17950a291f10980fbc": {
          "model_module": "@jupyter-widgets/base",
          "model_module_version": "1.2.0",
          "model_name": "LayoutModel",
          "state": {
            "_model_module": "@jupyter-widgets/base",
            "_model_module_version": "1.2.0",
            "_model_name": "LayoutModel",
            "_view_count": null,
            "_view_module": "@jupyter-widgets/base",
            "_view_module_version": "1.2.0",
            "_view_name": "LayoutView",
            "align_content": null,
            "align_items": null,
            "align_self": null,
            "border": null,
            "bottom": null,
            "display": null,
            "flex": null,
            "flex_flow": null,
            "grid_area": null,
            "grid_auto_columns": null,
            "grid_auto_flow": null,
            "grid_auto_rows": null,
            "grid_column": null,
            "grid_gap": null,
            "grid_row": null,
            "grid_template_areas": null,
            "grid_template_columns": null,
            "grid_template_rows": null,
            "height": null,
            "justify_content": null,
            "justify_items": null,
            "left": null,
            "margin": null,
            "max_height": null,
            "max_width": null,
            "min_height": null,
            "min_width": null,
            "object_fit": null,
            "object_position": null,
            "order": null,
            "overflow": null,
            "overflow_x": null,
            "overflow_y": null,
            "padding": null,
            "right": null,
            "top": null,
            "visibility": null,
            "width": null
          }
        },
        "90ea0e43e94d46c8a0ebcf58a3791bee": {
          "model_module": "@jupyter-widgets/base",
          "model_module_version": "1.2.0",
          "model_name": "LayoutModel",
          "state": {
            "_model_module": "@jupyter-widgets/base",
            "_model_module_version": "1.2.0",
            "_model_name": "LayoutModel",
            "_view_count": null,
            "_view_module": "@jupyter-widgets/base",
            "_view_module_version": "1.2.0",
            "_view_name": "LayoutView",
            "align_content": null,
            "align_items": null,
            "align_self": null,
            "border": null,
            "bottom": null,
            "display": null,
            "flex": null,
            "flex_flow": null,
            "grid_area": null,
            "grid_auto_columns": null,
            "grid_auto_flow": null,
            "grid_auto_rows": null,
            "grid_column": null,
            "grid_gap": null,
            "grid_row": null,
            "grid_template_areas": null,
            "grid_template_columns": null,
            "grid_template_rows": null,
            "height": null,
            "justify_content": null,
            "justify_items": null,
            "left": null,
            "margin": null,
            "max_height": null,
            "max_width": null,
            "min_height": null,
            "min_width": null,
            "object_fit": null,
            "object_position": null,
            "order": null,
            "overflow": null,
            "overflow_x": null,
            "overflow_y": null,
            "padding": null,
            "right": null,
            "top": null,
            "visibility": null,
            "width": null
          }
        },
        "99b8b80dd3974fb7b29a314c34347f4f": {
          "model_module": "@jupyter-widgets/base",
          "model_module_version": "1.2.0",
          "model_name": "LayoutModel",
          "state": {
            "_model_module": "@jupyter-widgets/base",
            "_model_module_version": "1.2.0",
            "_model_name": "LayoutModel",
            "_view_count": null,
            "_view_module": "@jupyter-widgets/base",
            "_view_module_version": "1.2.0",
            "_view_name": "LayoutView",
            "align_content": null,
            "align_items": null,
            "align_self": null,
            "border": null,
            "bottom": null,
            "display": null,
            "flex": null,
            "flex_flow": null,
            "grid_area": null,
            "grid_auto_columns": null,
            "grid_auto_flow": null,
            "grid_auto_rows": null,
            "grid_column": null,
            "grid_gap": null,
            "grid_row": null,
            "grid_template_areas": null,
            "grid_template_columns": null,
            "grid_template_rows": null,
            "height": null,
            "justify_content": null,
            "justify_items": null,
            "left": null,
            "margin": null,
            "max_height": null,
            "max_width": null,
            "min_height": null,
            "min_width": null,
            "object_fit": null,
            "object_position": null,
            "order": null,
            "overflow": null,
            "overflow_x": null,
            "overflow_y": null,
            "padding": null,
            "right": null,
            "top": null,
            "visibility": null,
            "width": null
          }
        },
        "9fa4b07b1c7b43dda9cfd67f67909b1b": {
          "model_module": "@jupyter-widgets/controls",
          "model_module_version": "1.5.0",
          "model_name": "ProgressStyleModel",
          "state": {
            "_model_module": "@jupyter-widgets/controls",
            "_model_module_version": "1.5.0",
            "_model_name": "ProgressStyleModel",
            "_view_count": null,
            "_view_module": "@jupyter-widgets/base",
            "_view_module_version": "1.2.0",
            "_view_name": "StyleView",
            "bar_color": null,
            "description_width": ""
          }
        },
        "a45d744801494d27aa711edfba4e1edb": {
          "model_module": "@jupyter-widgets/controls",
          "model_module_version": "1.5.0",
          "model_name": "HTMLModel",
          "state": {
            "_dom_classes": [],
            "_model_module": "@jupyter-widgets/controls",
            "_model_module_version": "1.5.0",
            "_model_name": "HTMLModel",
            "_view_count": null,
            "_view_module": "@jupyter-widgets/controls",
            "_view_module_version": "1.5.0",
            "_view_name": "HTMLView",
            "description": "",
            "description_tooltip": null,
            "layout": "IPY_MODEL_99b8b80dd3974fb7b29a314c34347f4f",
            "placeholder": "​",
            "style": "IPY_MODEL_477420b8b1794e519513177b9fefe987",
            "value": " 129M/129M [00:03&lt;00:00, 38.4MB/s]"
          }
        },
        "b24375c3c5854af98b0f00aa7e47b281": {
          "model_module": "@jupyter-widgets/base",
          "model_module_version": "1.2.0",
          "model_name": "LayoutModel",
          "state": {
            "_model_module": "@jupyter-widgets/base",
            "_model_module_version": "1.2.0",
            "_model_name": "LayoutModel",
            "_view_count": null,
            "_view_module": "@jupyter-widgets/base",
            "_view_module_version": "1.2.0",
            "_view_name": "LayoutView",
            "align_content": null,
            "align_items": null,
            "align_self": null,
            "border": null,
            "bottom": null,
            "display": null,
            "flex": null,
            "flex_flow": null,
            "grid_area": null,
            "grid_auto_columns": null,
            "grid_auto_flow": null,
            "grid_auto_rows": null,
            "grid_column": null,
            "grid_gap": null,
            "grid_row": null,
            "grid_template_areas": null,
            "grid_template_columns": null,
            "grid_template_rows": null,
            "height": null,
            "justify_content": null,
            "justify_items": null,
            "left": null,
            "margin": null,
            "max_height": null,
            "max_width": null,
            "min_height": null,
            "min_width": null,
            "object_fit": null,
            "object_position": null,
            "order": null,
            "overflow": null,
            "overflow_x": null,
            "overflow_y": null,
            "padding": null,
            "right": null,
            "top": null,
            "visibility": null,
            "width": null
          }
        },
        "b3a4ca9d4a984d5e8021c9206ca0251c": {
          "model_module": "@jupyter-widgets/controls",
          "model_module_version": "1.5.0",
          "model_name": "HTMLModel",
          "state": {
            "_dom_classes": [],
            "_model_module": "@jupyter-widgets/controls",
            "_model_module_version": "1.5.0",
            "_model_name": "HTMLModel",
            "_view_count": null,
            "_view_module": "@jupyter-widgets/controls",
            "_view_module_version": "1.5.0",
            "_view_name": "HTMLView",
            "description": "",
            "description_tooltip": null,
            "layout": "IPY_MODEL_0b2e2829b6c04032854ca671cc2836d7",
            "placeholder": "​",
            "style": "IPY_MODEL_ed9550c601d3491a9dc9e9ae3aa554eb",
            "value": "Downloading: 100%"
          }
        },
        "b7c21511087f4e779cad024a1d90ce6e": {
          "model_module": "@jupyter-widgets/base",
          "model_module_version": "1.2.0",
          "model_name": "LayoutModel",
          "state": {
            "_model_module": "@jupyter-widgets/base",
            "_model_module_version": "1.2.0",
            "_model_name": "LayoutModel",
            "_view_count": null,
            "_view_module": "@jupyter-widgets/base",
            "_view_module_version": "1.2.0",
            "_view_name": "LayoutView",
            "align_content": null,
            "align_items": null,
            "align_self": null,
            "border": null,
            "bottom": null,
            "display": null,
            "flex": null,
            "flex_flow": null,
            "grid_area": null,
            "grid_auto_columns": null,
            "grid_auto_flow": null,
            "grid_auto_rows": null,
            "grid_column": null,
            "grid_gap": null,
            "grid_row": null,
            "grid_template_areas": null,
            "grid_template_columns": null,
            "grid_template_rows": null,
            "height": null,
            "justify_content": null,
            "justify_items": null,
            "left": null,
            "margin": null,
            "max_height": null,
            "max_width": null,
            "min_height": null,
            "min_width": null,
            "object_fit": null,
            "object_position": null,
            "order": null,
            "overflow": null,
            "overflow_x": null,
            "overflow_y": null,
            "padding": null,
            "right": null,
            "top": null,
            "visibility": null,
            "width": null
          }
        },
        "be554eb458d843398a75425f4f9790dd": {
          "model_module": "@jupyter-widgets/controls",
          "model_module_version": "1.5.0",
          "model_name": "ProgressStyleModel",
          "state": {
            "_model_module": "@jupyter-widgets/controls",
            "_model_module_version": "1.5.0",
            "_model_name": "ProgressStyleModel",
            "_view_count": null,
            "_view_module": "@jupyter-widgets/base",
            "_view_module_version": "1.2.0",
            "_view_name": "StyleView",
            "bar_color": null,
            "description_width": ""
          }
        },
        "c9782cedb74743fd83b39b733abc7356": {
          "model_module": "@jupyter-widgets/base",
          "model_module_version": "1.2.0",
          "model_name": "LayoutModel",
          "state": {
            "_model_module": "@jupyter-widgets/base",
            "_model_module_version": "1.2.0",
            "_model_name": "LayoutModel",
            "_view_count": null,
            "_view_module": "@jupyter-widgets/base",
            "_view_module_version": "1.2.0",
            "_view_name": "LayoutView",
            "align_content": null,
            "align_items": null,
            "align_self": null,
            "border": null,
            "bottom": null,
            "display": null,
            "flex": null,
            "flex_flow": null,
            "grid_area": null,
            "grid_auto_columns": null,
            "grid_auto_flow": null,
            "grid_auto_rows": null,
            "grid_column": null,
            "grid_gap": null,
            "grid_row": null,
            "grid_template_areas": null,
            "grid_template_columns": null,
            "grid_template_rows": null,
            "height": null,
            "justify_content": null,
            "justify_items": null,
            "left": null,
            "margin": null,
            "max_height": null,
            "max_width": null,
            "min_height": null,
            "min_width": null,
            "object_fit": null,
            "object_position": null,
            "order": null,
            "overflow": null,
            "overflow_x": null,
            "overflow_y": null,
            "padding": null,
            "right": null,
            "top": null,
            "visibility": null,
            "width": null
          }
        },
        "ca29f2d2609b4aff944766ac46cac1a7": {
          "model_module": "@jupyter-widgets/controls",
          "model_module_version": "1.5.0",
          "model_name": "FloatProgressModel",
          "state": {
            "_dom_classes": [],
            "_model_module": "@jupyter-widgets/controls",
            "_model_module_version": "1.5.0",
            "_model_name": "FloatProgressModel",
            "_view_count": null,
            "_view_module": "@jupyter-widgets/controls",
            "_view_module_version": "1.5.0",
            "_view_name": "ProgressView",
            "bar_style": "success",
            "description": "",
            "description_tooltip": null,
            "layout": "IPY_MODEL_c9782cedb74743fd83b39b733abc7356",
            "max": 134982446,
            "min": 0,
            "orientation": "horizontal",
            "style": "IPY_MODEL_9fa4b07b1c7b43dda9cfd67f67909b1b",
            "value": 134982446
          }
        },
        "e296dc01788847d49f58f520b67bd696": {
          "model_module": "@jupyter-widgets/controls",
          "model_module_version": "1.5.0",
          "model_name": "HTMLModel",
          "state": {
            "_dom_classes": [],
            "_model_module": "@jupyter-widgets/controls",
            "_model_module_version": "1.5.0",
            "_model_name": "HTMLModel",
            "_view_count": null,
            "_view_module": "@jupyter-widgets/controls",
            "_view_module_version": "1.5.0",
            "_view_name": "HTMLView",
            "description": "",
            "description_tooltip": null,
            "layout": "IPY_MODEL_b7c21511087f4e779cad024a1d90ce6e",
            "placeholder": "​",
            "style": "IPY_MODEL_5a6672583ac346259c1646df225075ca",
            "value": " 507/507 [00:00&lt;00:00, 7.91kB/s]"
          }
        },
        "ed9550c601d3491a9dc9e9ae3aa554eb": {
          "model_module": "@jupyter-widgets/controls",
          "model_module_version": "1.5.0",
          "model_name": "DescriptionStyleModel",
          "state": {
            "_model_module": "@jupyter-widgets/controls",
            "_model_module_version": "1.5.0",
            "_model_name": "DescriptionStyleModel",
            "_view_count": null,
            "_view_module": "@jupyter-widgets/base",
            "_view_module_version": "1.2.0",
            "_view_name": "StyleView",
            "description_width": ""
          }
        },
        "f450ca556dde4f30932e6d8accc543ee": {
          "model_module": "@jupyter-widgets/controls",
          "model_module_version": "1.5.0",
          "model_name": "DescriptionStyleModel",
          "state": {
            "_model_module": "@jupyter-widgets/controls",
            "_model_module_version": "1.5.0",
            "_model_name": "DescriptionStyleModel",
            "_view_count": null,
            "_view_module": "@jupyter-widgets/base",
            "_view_module_version": "1.2.0",
            "_view_name": "StyleView",
            "description_width": ""
          }
        },
        "fccc0fe8223044798b568f96c7a01644": {
          "model_module": "@jupyter-widgets/base",
          "model_module_version": "1.2.0",
          "model_name": "LayoutModel",
          "state": {
            "_model_module": "@jupyter-widgets/base",
            "_model_module_version": "1.2.0",
            "_model_name": "LayoutModel",
            "_view_count": null,
            "_view_module": "@jupyter-widgets/base",
            "_view_module_version": "1.2.0",
            "_view_name": "LayoutView",
            "align_content": null,
            "align_items": null,
            "align_self": null,
            "border": null,
            "bottom": null,
            "display": null,
            "flex": null,
            "flex_flow": null,
            "grid_area": null,
            "grid_auto_columns": null,
            "grid_auto_flow": null,
            "grid_auto_rows": null,
            "grid_column": null,
            "grid_gap": null,
            "grid_row": null,
            "grid_template_areas": null,
            "grid_template_columns": null,
            "grid_template_rows": null,
            "height": null,
            "justify_content": null,
            "justify_items": null,
            "left": null,
            "margin": null,
            "max_height": null,
            "max_width": null,
            "min_height": null,
            "min_width": null,
            "object_fit": null,
            "object_position": null,
            "order": null,
            "overflow": null,
            "overflow_x": null,
            "overflow_y": null,
            "padding": null,
            "right": null,
            "top": null,
            "visibility": null,
            "width": null
          }
        },
        "fe59ad47274d41f3b8611df973a06eb1": {
          "model_module": "@jupyter-widgets/controls",
          "model_module_version": "1.5.0",
          "model_name": "HBoxModel",
          "state": {
            "_dom_classes": [],
            "_model_module": "@jupyter-widgets/controls",
            "_model_module_version": "1.5.0",
            "_model_name": "HBoxModel",
            "_view_count": null,
            "_view_module": "@jupyter-widgets/controls",
            "_view_module_version": "1.5.0",
            "_view_name": "HBoxView",
            "box_style": "",
            "children": [
              "IPY_MODEL_2ed35757147543e29b592fd19b2366a7",
              "IPY_MODEL_4c3cb80df7ca4bc283b3a5eb5b514752",
              "IPY_MODEL_759da21079004befab92d39a17c0c7df"
            ],
            "layout": "IPY_MODEL_90ea0e43e94d46c8a0ebcf58a3791bee"
          }
        },
        "ff9b9761ba7d4be689e8da173b3a25ba": {
          "model_module": "@jupyter-widgets/base",
          "model_module_version": "1.2.0",
          "model_name": "LayoutModel",
          "state": {
            "_model_module": "@jupyter-widgets/base",
            "_model_module_version": "1.2.0",
            "_model_name": "LayoutModel",
            "_view_count": null,
            "_view_module": "@jupyter-widgets/base",
            "_view_module_version": "1.2.0",
            "_view_name": "LayoutView",
            "align_content": null,
            "align_items": null,
            "align_self": null,
            "border": null,
            "bottom": null,
            "display": null,
            "flex": null,
            "flex_flow": null,
            "grid_area": null,
            "grid_auto_columns": null,
            "grid_auto_flow": null,
            "grid_auto_rows": null,
            "grid_column": null,
            "grid_gap": null,
            "grid_row": null,
            "grid_template_areas": null,
            "grid_template_columns": null,
            "grid_template_rows": null,
            "height": null,
            "justify_content": null,
            "justify_items": null,
            "left": null,
            "margin": null,
            "max_height": null,
            "max_width": null,
            "min_height": null,
            "min_width": null,
            "object_fit": null,
            "object_position": null,
            "order": null,
            "overflow": null,
            "overflow_x": null,
            "overflow_y": null,
            "padding": null,
            "right": null,
            "top": null,
            "visibility": null,
            "width": null
          }
        }
      }
    }
  },
  "nbformat": 4,
  "nbformat_minor": 0
}
