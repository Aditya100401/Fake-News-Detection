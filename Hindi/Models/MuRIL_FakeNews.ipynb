{
 "cells": [
  {
   "cell_type": "code",
   "execution_count": 1,
   "metadata": {},
   "outputs": [
    {
     "name": "stderr",
     "output_type": "stream",
     "text": [
      "Downloading https://raw.githubusercontent.com/stanfordnlp/stanza-resources/main/resources_1.4.0.json: 154kB [00:00, 2.16MB/s]                    \n",
      "2022-06-09 09:57:28 INFO: Loading these models for language: hi (Hindi):\n",
      "=======================\n",
      "| Processor | Package |\n",
      "-----------------------\n",
      "| tokenize  | hdtb    |\n",
      "| pos       | hdtb    |\n",
      "| lemma     | hdtb    |\n",
      "=======================\n",
      "\n",
      "2022-06-09 09:57:28 INFO: Use device: cpu\n",
      "2022-06-09 09:57:28 INFO: Loading: tokenize\n",
      "2022-06-09 09:57:28 INFO: Loading: pos\n",
      "2022-06-09 09:57:29 INFO: Loading: lemma\n",
      "2022-06-09 09:57:29 INFO: Done loading processors!\n"
     ]
    }
   ],
   "source": [
    "import preProcessing\n",
    "import pandas as pd\n",
    "from tqdm import tqdm"
   ]
  },
  {
   "cell_type": "code",
   "execution_count": 2,
   "metadata": {},
   "outputs": [
    {
     "data": {
      "text/html": [
       "<div>\n",
       "<style scoped>\n",
       "    .dataframe tbody tr th:only-of-type {\n",
       "        vertical-align: middle;\n",
       "    }\n",
       "\n",
       "    .dataframe tbody tr th {\n",
       "        vertical-align: top;\n",
       "    }\n",
       "\n",
       "    .dataframe thead th {\n",
       "        text-align: right;\n",
       "    }\n",
       "</style>\n",
       "<table border=\"1\" class=\"dataframe\">\n",
       "  <thead>\n",
       "    <tr style=\"text-align: right;\">\n",
       "      <th></th>\n",
       "      <th>News</th>\n",
       "      <th>Label</th>\n",
       "    </tr>\n",
       "  </thead>\n",
       "  <tbody>\n",
       "    <tr>\n",
       "      <th>0</th>\n",
       "      <td>नहीं वीडियो दिल्ली का सरकारी स्कूल मदरसा तब्दी...</td>\n",
       "      <td>0</td>\n",
       "    </tr>\n",
       "    <tr>\n",
       "      <th>1</th>\n",
       "      <td>मध्यप्रदेश शराब बिक्री शिवराज चौहान वीडियो फर्...</td>\n",
       "      <td>0</td>\n",
       "    </tr>\n",
       "    <tr>\n",
       "      <th>2</th>\n",
       "      <td>हिन्दू - मुस्लिम जोड़ हाई कोर्ट मिल सभ केस रद्...</td>\n",
       "      <td>1</td>\n",
       "    </tr>\n",
       "    <tr>\n",
       "      <th>3</th>\n",
       "      <td>अरुण लाल 66 उम्र शादी पूर्व क्रिकेटर वाला दुल्...</td>\n",
       "      <td>1</td>\n",
       "    </tr>\n",
       "    <tr>\n",
       "      <th>4</th>\n",
       "      <td>मध्यप्रदेश शराब बिक्री शिवराज चौहान वीडियो फर्...</td>\n",
       "      <td>0</td>\n",
       "    </tr>\n",
       "    <tr>\n",
       "      <th>...</th>\n",
       "      <td>...</td>\n",
       "      <td>...</td>\n",
       "    </tr>\n",
       "    <tr>\n",
       "      <th>4583</th>\n",
       "      <td>मुस्लिम पिता - पुत्री माँ - बेटा पुराना तस्वीर...</td>\n",
       "      <td>0</td>\n",
       "    </tr>\n",
       "    <tr>\n",
       "      <th>4584</th>\n",
       "      <td>चालक कार रोक का बजाय चल जार रख ट्रैफ़िक पुलिसक...</td>\n",
       "      <td>1</td>\n",
       "    </tr>\n",
       "    <tr>\n",
       "      <th>4585</th>\n",
       "      <td>हवा घुल ज़हरदिल्ली समेत उत्तर भारत का इलाका प्...</td>\n",
       "      <td>1</td>\n",
       "    </tr>\n",
       "    <tr>\n",
       "      <th>4586</th>\n",
       "      <td>वायरल वीडियो का लव जिहाद दावा फ़र्जी है“वीडियो ...</td>\n",
       "      <td>0</td>\n",
       "    </tr>\n",
       "    <tr>\n",
       "      <th>4587</th>\n",
       "      <td>सोशल मीडिया वायरल तस्वीर दरअसल आप गली - मोहल्ल...</td>\n",
       "      <td>0</td>\n",
       "    </tr>\n",
       "  </tbody>\n",
       "</table>\n",
       "<p>4588 rows × 2 columns</p>\n",
       "</div>"
      ],
      "text/plain": [
       "                                                   News  Label\n",
       "0     नहीं वीडियो दिल्ली का सरकारी स्कूल मदरसा तब्दी...      0\n",
       "1     मध्यप्रदेश शराब बिक्री शिवराज चौहान वीडियो फर्...      0\n",
       "2     हिन्दू - मुस्लिम जोड़ हाई कोर्ट मिल सभ केस रद्...      1\n",
       "3     अरुण लाल 66 उम्र शादी पूर्व क्रिकेटर वाला दुल्...      1\n",
       "4     मध्यप्रदेश शराब बिक्री शिवराज चौहान वीडियो फर्...      0\n",
       "...                                                 ...    ...\n",
       "4583  मुस्लिम पिता - पुत्री माँ - बेटा पुराना तस्वीर...      0\n",
       "4584  चालक कार रोक का बजाय चल जार रख ट्रैफ़िक पुलिसक...      1\n",
       "4585  हवा घुल ज़हरदिल्ली समेत उत्तर भारत का इलाका प्...      1\n",
       "4586  वायरल वीडियो का लव जिहाद दावा फ़र्जी है“वीडियो ...      0\n",
       "4587  सोशल मीडिया वायरल तस्वीर दरअसल आप गली - मोहल्ल...      0\n",
       "\n",
       "[4588 rows x 2 columns]"
      ]
     },
     "execution_count": 2,
     "metadata": {},
     "output_type": "execute_result"
    }
   ],
   "source": [
    "df = pd.read_csv('lemmatized_news.csv')\n",
    "df"
   ]
  },
  {
   "cell_type": "code",
   "execution_count": null,
   "metadata": {},
   "outputs": [],
   "source": [
    "\"\"\" df = preProcessing.eachNews(df)\n",
    "df \"\"\""
   ]
  },
  {
   "cell_type": "code",
   "execution_count": 3,
   "metadata": {},
   "outputs": [
    {
     "name": "stderr",
     "output_type": "stream",
     "text": [
      "Some weights of the model checkpoint at google/muril-base-cased were not used when initializing BertModel: ['cls.seq_relationship.bias', 'cls.predictions.bias', 'cls.predictions.transform.LayerNorm.weight', 'cls.predictions.transform.dense.bias', 'cls.predictions.transform.LayerNorm.bias', 'cls.seq_relationship.weight', 'cls.predictions.transform.dense.weight', 'cls.predictions.decoder.weight', 'cls.predictions.decoder.bias']\n",
      "- This IS expected if you are initializing BertModel from the checkpoint of a model trained on another task or with another architecture (e.g. initializing a BertForSequenceClassification model from a BertForPreTraining model).\n",
      "- This IS NOT expected if you are initializing BertModel from the checkpoint of a model that you expect to be exactly identical (initializing a BertForSequenceClassification model from a BertForSequenceClassification model).\n"
     ]
    }
   ],
   "source": [
    "path = 'google/muril-base-cased'\n",
    "\n",
    "\n",
    "from transformers import AutoModel, AutoTokenizer\n",
    "import torch\n",
    "\n",
    "\n",
    "tokenizer = AutoTokenizer.from_pretrained(path)\n",
    "model = AutoModel.from_pretrained(path,output_hidden_states=True)"
   ]
  },
  {
   "cell_type": "code",
   "execution_count": 4,
   "metadata": {},
   "outputs": [
    {
     "name": "stderr",
     "output_type": "stream",
     "text": [
      "100%|██████████| 4588/4588 [04:50<00:00, 15.81it/s]\n"
     ]
    }
   ],
   "source": [
    "embedds = []\n",
    "for i in tqdm(df.index):\n",
    "    temp = tokenizer.convert_ids_to_tokens(tokenizer.encode(df['News'][i]))\n",
    "    input_encoded = tokenizer.encode_plus(df['News'][i], return_tensors=\"pt\")\n",
    "    with torch.no_grad():\n",
    "        states = model(**input_encoded).hidden_states\n",
    "    output = torch.stack([states[i] for i in range(len(states))])\n",
    "    #output = output.squeeze()\n",
    "    token_vecs = output[-2][0]\n",
    "    sentence_embedding = torch.mean(token_vecs, dim=0)\n",
    "    sentence_embedding = sentence_embedding.tolist()\n",
    "    embedds.append(sentence_embedding)\n",
    "    #print(\"Output shape is {}\".format(output.shape))"
   ]
  },
  {
   "cell_type": "code",
   "execution_count": 5,
   "metadata": {},
   "outputs": [],
   "source": [
    "import numpy as np\n",
    "embedds = np.array(embedds)"
   ]
  },
  {
   "cell_type": "code",
   "execution_count": 6,
   "metadata": {},
   "outputs": [
    {
     "data": {
      "text/plain": [
       "(4588, 768)"
      ]
     },
     "execution_count": 6,
     "metadata": {},
     "output_type": "execute_result"
    }
   ],
   "source": [
    "embedds.shape"
   ]
  },
  {
   "cell_type": "code",
   "execution_count": 7,
   "metadata": {},
   "outputs": [],
   "source": [
    "from sklearn.model_selection import train_test_split\n",
    "\n",
    "X_train, X_rem, y_train, y_rem = train_test_split(embedds, np.array(df['Label'].tolist()), train_size=0.8)\n",
    "X_valid, X_test, y_valid, y_test = train_test_split(X_rem,y_rem, test_size=0.5)"
   ]
  },
  {
   "cell_type": "code",
   "execution_count": 8,
   "metadata": {},
   "outputs": [
    {
     "data": {
      "text/plain": [
       "(3670, 768)"
      ]
     },
     "execution_count": 8,
     "metadata": {},
     "output_type": "execute_result"
    }
   ],
   "source": [
    "X_train.shape"
   ]
  },
  {
   "cell_type": "code",
   "execution_count": 9,
   "metadata": {},
   "outputs": [
    {
     "data": {
      "text/plain": [
       "(3670,)"
      ]
     },
     "execution_count": 9,
     "metadata": {},
     "output_type": "execute_result"
    }
   ],
   "source": [
    "y_train.shape"
   ]
  },
  {
   "cell_type": "code",
   "execution_count": null,
   "metadata": {},
   "outputs": [],
   "source": [
    "from keras.models import Sequential\n",
    "from keras.layers import Dense, LSTM, Dropout\n",
    "from keras.models import Model, Sequential\n",
    "import keras\n",
    "from keras import layers\n",
    "from keras.callbacks import ModelCheckpoint\n",
    "import tensorflow as tf"
   ]
  },
  {
   "cell_type": "code",
   "execution_count": null,
   "metadata": {},
   "outputs": [],
   "source": [
    "cnnModel = Sequential()\n",
    "cnnModel.add(layers.LSTM(units=50, activation='relu', return_sequences=True, \n",
    "                input_shape=(X_train.shape[1], 1)))\n",
    "cnnModel.add(layers.Dropout(0.2))\n",
    "\n",
    "cnnModel.add(layers.Convolution1D(32, 4,activation='relu'))\n",
    "cnnModel.add(layers.Dropout(0.3))\n",
    "\n",
    "cnnModel.add(layers.AveragePooling1D())\n",
    "\n",
    "cnnModel.add(layers.Convolution1D(64, 4,activation='relu'))\n",
    "cnnModel.add(layers.Dropout(0.4))\n",
    "\n",
    "cnnModel.add(layers.AveragePooling1D())\n",
    "\n",
    "cnnModel.add(layers.Flatten())\n",
    "cnnModel.add(layers.Dropout(0.6))\n",
    "\n",
    "cnnModel.add(layers.Dense(units=1, activation='sigmoid'))"
   ]
  },
  {
   "cell_type": "code",
   "execution_count": null,
   "metadata": {},
   "outputs": [],
   "source": [
    "cnnModel.summary()"
   ]
  },
  {
   "cell_type": "code",
   "execution_count": null,
   "metadata": {},
   "outputs": [],
   "source": [
    "cnnModel.compile(optimizer='adam', loss=tf.keras.losses.BinaryCrossentropy(), \n",
    "                    metrics=[tf.keras.metrics.BinaryAccuracy()])\n",
    "\n",
    "checkpoint = ModelCheckpoint('modelCase.h5',verbose=1, monitor='val_binary_accuracy',save_best_only=True, mode='auto')\n",
    "\n",
    "#checkpoint = ModelCheckpoint('model.h5',verbose=1, monitor='loss',save_best_only=True, mode='auto')\n",
    "\n",
    "\n",
    "cnnModel.fit(x=X_train, y=y_train, batch_size=256, epochs=25, \n",
    "                validation_data=(X_test,y_test), callbacks=[checkpoint])"
   ]
  },
  {
   "cell_type": "code",
   "execution_count": 23,
   "metadata": {},
   "outputs": [
    {
     "name": "stdout",
     "output_type": "stream",
     "text": [
      "SVM Accuracy: 99.23747276688452%\n",
      "[[453   6]\n",
      " [  1 458]]\n"
     ]
    }
   ],
   "source": [
    "from sklearn import svm\n",
    "from sklearn.metrics import accuracy_score\n",
    "import dill\n",
    "from sklearn.metrics import confusion_matrix\n",
    "\n",
    "SVM = svm.SVC(kernel='rbf', C=50, gamma='auto')\n",
    "SVM.fit(X_train, y_train)\n",
    "\n",
    "dill.dump(SVM, open('svmCase.sav', 'wb'))\n",
    "pred = SVM.predict(X_rem)\n",
    "print(f'SVM Accuracy: {accuracy_score(y_rem, pred)*100}%')\n",
    "\n",
    "print(confusion_matrix(y_rem, pred))"
   ]
  },
  {
   "cell_type": "code",
   "execution_count": 24,
   "metadata": {},
   "outputs": [
    {
     "data": {
      "text/plain": [
       "<sklearn.metrics._plot.confusion_matrix.ConfusionMatrixDisplay at 0x1efd4e1b610>"
      ]
     },
     "execution_count": 24,
     "metadata": {},
     "output_type": "execute_result"
    },
    {
     "data": {
      "image/png": "[encoded data removed]",
      "text/plain": [
       "<Figure size 432x288 with 2 Axes>"
      ]
     },
     "metadata": {
      "needs_background": "light"
     },
     "output_type": "display_data"
    }
   ],
   "source": [
    "import matplotlib.pyplot as plt\n",
    "from sklearn.metrics import ConfusionMatrixDisplay\n",
    "\n",
    "disp = ConfusionMatrixDisplay(confusion_matrix=confusion_matrix(y_rem, pred), display_labels=['Fake', 'True'])\n",
    "disp.plot(values_format='d', cmap='Blues')"
   ]
  },
  {
   "cell_type": "code",
   "execution_count": 25,
   "metadata": {},
   "outputs": [
    {
     "name": "stdout",
     "output_type": "stream",
     "text": [
      "[0.        0.0130719 1.       ]\n",
      "[0.         0.99782135 1.        ]\n"
     ]
    }
   ],
   "source": [
    "from sklearn.metrics import roc_curve\n",
    "\n",
    "pred = SVM.predict(X_rem).ravel()\n",
    "fpr_keras, tpr_keras, thresholds_keras = roc_curve(y_rem, pred)\n",
    "print(fpr_keras)\n",
    "print(tpr_keras)"
   ]
  },
  {
   "cell_type": "code",
   "execution_count": 26,
   "metadata": {},
   "outputs": [],
   "source": [
    "from sklearn.metrics import auc\n",
    "auc_keras = auc(fpr_keras, tpr_keras)"
   ]
  },
  {
   "cell_type": "code",
   "execution_count": 28,
   "metadata": {},
   "outputs": [
    {
     "data": {
      "image/png": "[encoded data removed]",
      "text/plain": [
       "<Figure size 432x288 with 1 Axes>"
      ]
     },
     "metadata": {
      "needs_background": "light"
     },
     "output_type": "display_data"
    }
   ],
   "source": [
    "import matplotlib.pyplot as plt\n",
    "\n",
    "plt.figure(1)\n",
    "plt.plot([0, 1], [0, 1], 'k--')\n",
    "plt.plot(fpr_keras, tpr_keras, label='SVM Classifier AUC = {:.3f})'.format(auc_keras))\n",
    "plt.xlabel('False positive rate')\n",
    "plt.ylabel('True positive rate')\n",
    "plt.title('ROC curve')\n",
    "plt.legend(loc='best')\n",
    "plt.show()"
   ]
  },
  {
   "cell_type": "code",
   "execution_count": null,
   "metadata": {},
   "outputs": [],
   "source": [
    "from sklearn.preprocessing import StandardScaler\n",
    "from sklearn.linear_model import LogisticRegression\n",
    "import dill\n",
    "from sklearn.metrics import accuracy_score\n",
    "\n",
    "sc_x = StandardScaler()\n",
    "xtrain = sc_x.fit_transform(X_train)\n",
    "xtest = sc_x.transform(X_rem)\n",
    "\n",
    "classifier = LogisticRegression(random_state = 0, max_iter=500)\n",
    "classifier.fit(X_train, y_train)\n",
    "\n",
    "dill.dump(classifier, open('logisticCase.sav', 'wb'))\n",
    "y_pred = classifier.predict(X_rem)\n",
    "\n",
    "print (f\"Accuracy : {(accuracy_score(y_rem, y_pred)*100):.2f}%\")"
   ]
  }
 ],
 "metadata": {
  "interpreter": {
   "hash": "3b97bdc2c87e206e8291e5ab4f714e0f91846bfc9349b2ee1278ba67b5e1fb2e"
  },
  "kernelspec": {
   "display_name": "Python 3.10.4 64-bit",
   "language": "python",
   "name": "python3"
  },
  "language_info": {
   "codemirror_mode": {
    "name": "ipython",
    "version": 3
   },
   "file_extension": ".py",
   "mimetype": "text/x-python",
   "name": "python",
   "nbconvert_exporter": "python",
   "pygments_lexer": "ipython3",
   "version": "3.10.4"
  },
  "orig_nbformat": 4
 },
 "nbformat": 4,
 "nbformat_minor": 2
}
